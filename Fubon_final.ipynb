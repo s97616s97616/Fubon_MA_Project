{
  "nbformat": 4,
  "nbformat_minor": 0,
  "metadata": {
    "colab": {
      "name": "Fubon.ipynb",
      "provenance": [],
      "collapsed_sections": [],
      "machine_shape": "hm",
      "authorship_tag": "ABX9TyN9IIrjj0v+uT1a0V69GMMa",
      "include_colab_link": true
    },
    "kernelspec": {
      "name": "python3",
      "display_name": "Python 3"
    }
  },
  "cells": [
    {
      "cell_type": "markdown",
      "metadata": {
        "id": "view-in-github",
        "colab_type": "text"
      },
      "source": [
        "<a href=\"https://colab.research.google.com/github/s97616s97616/s97616s97616/blob/master/Fubon_final.ipynb\" target=\"_parent\"><img src=\"https://colab.research.google.com/assets/colab-badge.svg\" alt=\"Open In Colab\"/></a>"
      ]
    },
    {
      "cell_type": "code",
      "metadata": {
        "id": "RuQxYyb83nHI",
        "colab_type": "code",
        "colab": {}
      },
      "source": [
        "import pandas as pd\n",
        "!pip install -U -q PyDrive\n",
        "from pydrive.auth import GoogleAuth\n",
        "from pydrive.drive import GoogleDrive\n",
        "from google.colab import auth\n",
        "from oauth2client.client import GoogleCredentials\n",
        "import warnings\n",
        "\n",
        "warnings.filterwarnings(\"ignore\")\n",
        "auth.authenticate_user()\n",
        "gauth = GoogleAuth()\n",
        "gauth.credentials = GoogleCredentials.get_application_default()\n",
        "drive = GoogleDrive(gauth)"
      ],
      "execution_count": 0,
      "outputs": []
    },
    {
      "cell_type": "code",
      "metadata": {
        "id": "WY4HqemAYMQV",
        "colab_type": "code",
        "outputId": "51d1d912-d403-4718-f0b6-60225c53b60e",
        "colab": {
          "base_uri": "https://localhost:8080/",
          "height": 34
        }
      },
      "source": [
        "link = \"https://drive.google.com/open?id=1w6-_5k6pCMvXzg3oECV4m3IGyxElZzxn\" \n",
        "fluff, id = link.split('=')\n",
        "print (id) "
      ],
      "execution_count": 2,
      "outputs": [
        {
          "output_type": "stream",
          "text": [
            "1w6-_5k6pCMvXzg3oECV4m3IGyxElZzxn\n"
          ],
          "name": "stdout"
        }
      ]
    },
    {
      "cell_type": "code",
      "metadata": {
        "id": "bhHChT8ScifJ",
        "colab_type": "code",
        "colab": {}
      },
      "source": [
        "downloaded = drive.CreateFile({'id':id}) \n",
        "downloaded.GetContentFile('Filename.csv')  "
      ],
      "execution_count": 0,
      "outputs": []
    },
    {
      "cell_type": "markdown",
      "metadata": {
        "id": "f6bsoF-HLuYJ",
        "colab_type": "text"
      },
      "source": [
        "# 1. Data clean"
      ]
    },
    {
      "cell_type": "code",
      "metadata": {
        "id": "vg5OnoShSplF",
        "colab_type": "code",
        "colab": {}
      },
      "source": [
        "df_or = pd.read_csv('Filename.csv')"
      ],
      "execution_count": 0,
      "outputs": []
    },
    {
      "cell_type": "markdown",
      "metadata": {
        "id": "FB6Nq7vtNF37",
        "colab_type": "text"
      },
      "source": [
        "Due to the server and time limit, sample the dataset using unique ids."
      ]
    },
    {
      "cell_type": "code",
      "metadata": {
        "id": "YqPfg_mCGZz1",
        "colab_type": "code",
        "outputId": "753e5594-9371-4d73-9939-9ca4b464f739",
        "colab": {
          "base_uri": "https://localhost:8080/",
          "height": 34
        }
      },
      "source": [
        "uniq = pd.Series(df_or[\"ncodpers\"].unique())\n",
        "unique_id = uniq.sample(n=2000)\n",
        "df = df_or[df_or.ncodpers.isin(unique_id)]\n",
        "df.shape"
      ],
      "execution_count": 52,
      "outputs": [
        {
          "output_type": "execute_result",
          "data": {
            "text/plain": [
              "(28779, 48)"
            ]
          },
          "metadata": {
            "tags": []
          },
          "execution_count": 52
        }
      ]
    },
    {
      "cell_type": "markdown",
      "metadata": {
        "id": "AxImziHqNY2r",
        "colab_type": "text"
      },
      "source": [
        "Check NA in the whole dataset"
      ]
    },
    {
      "cell_type": "code",
      "metadata": {
        "id": "2YHwbFPEeWJ2",
        "colab_type": "code",
        "outputId": "022a2be8-c5f0-4e00-925f-9506452d2f3c",
        "colab": {
          "base_uri": "https://localhost:8080/",
          "height": 879
        }
      },
      "source": [
        "df.isna().sum()"
      ],
      "execution_count": 53,
      "outputs": [
        {
          "output_type": "execute_result",
          "data": {
            "text/plain": [
              "fecha_dato                   0\n",
              "ncodpers                     0\n",
              "ind_empleado                69\n",
              "pais_residencia             69\n",
              "sexo                        69\n",
              "age                          0\n",
              "fecha_alta                  69\n",
              "ind_nuevo                   69\n",
              "antiguedad                   0\n",
              "indrel                      69\n",
              "ult_fec_cli_1t           28719\n",
              "indrel_1mes                297\n",
              "tiprel_1mes                297\n",
              "indresi                     69\n",
              "indext                      69\n",
              "conyuemp                 28761\n",
              "canal_entrada              366\n",
              "indfall                     69\n",
              "tipodom                     69\n",
              "cod_prov                   171\n",
              "nomprov                    171\n",
              "ind_actividad_cliente       69\n",
              "renta                     5953\n",
              "segmento                   368\n",
              "ind_ahor_fin_ult1            0\n",
              "ind_aval_fin_ult1            0\n",
              "ind_cco_fin_ult1             0\n",
              "ind_cder_fin_ult1            0\n",
              "ind_cno_fin_ult1             0\n",
              "ind_ctju_fin_ult1            0\n",
              "ind_ctma_fin_ult1            0\n",
              "ind_ctop_fin_ult1            0\n",
              "ind_ctpp_fin_ult1            0\n",
              "ind_deco_fin_ult1            0\n",
              "ind_deme_fin_ult1            0\n",
              "ind_dela_fin_ult1            0\n",
              "ind_ecue_fin_ult1            0\n",
              "ind_fond_fin_ult1            0\n",
              "ind_hip_fin_ult1             0\n",
              "ind_plan_fin_ult1            0\n",
              "ind_pres_fin_ult1            0\n",
              "ind_reca_fin_ult1            0\n",
              "ind_tjcr_fin_ult1            0\n",
              "ind_valo_fin_ult1            0\n",
              "ind_viv_fin_ult1             0\n",
              "ind_nomina_ult1             63\n",
              "ind_nom_pens_ult1           63\n",
              "ind_recibo_ult1              0\n",
              "dtype: int64"
            ]
          },
          "metadata": {
            "tags": []
          },
          "execution_count": 53
        }
      ]
    },
    {
      "cell_type": "markdown",
      "metadata": {
        "id": "ZCg9znjXNjIl",
        "colab_type": "text"
      },
      "source": [
        "The amount of NA is the same in some fields. I assert it\n",
        "is a kind of systematic errors. Thus, Check this hypothesis using one of the columns."
      ]
    },
    {
      "cell_type": "code",
      "metadata": {
        "id": "f1SLYVEkHrIM",
        "colab_type": "code",
        "outputId": "23654502-0b6f-4140-e46b-c2c142ef16b5",
        "colab": {
          "base_uri": "https://localhost:8080/",
          "height": 879
        }
      },
      "source": [
        "df_ind=df[df[\"ind_empleado\"].isnull()]\n",
        "df_ind.isna().sum()"
      ],
      "execution_count": 54,
      "outputs": [
        {
          "output_type": "execute_result",
          "data": {
            "text/plain": [
              "fecha_dato                0\n",
              "ncodpers                  0\n",
              "ind_empleado             69\n",
              "pais_residencia          69\n",
              "sexo                     69\n",
              "age                       0\n",
              "fecha_alta               69\n",
              "ind_nuevo                69\n",
              "antiguedad                0\n",
              "indrel                   69\n",
              "ult_fec_cli_1t           69\n",
              "indrel_1mes              69\n",
              "tiprel_1mes              69\n",
              "indresi                  69\n",
              "indext                   69\n",
              "conyuemp                 69\n",
              "canal_entrada            69\n",
              "indfall                  69\n",
              "tipodom                  69\n",
              "cod_prov                 69\n",
              "nomprov                  69\n",
              "ind_actividad_cliente    69\n",
              "renta                    69\n",
              "segmento                 69\n",
              "ind_ahor_fin_ult1         0\n",
              "ind_aval_fin_ult1         0\n",
              "ind_cco_fin_ult1          0\n",
              "ind_cder_fin_ult1         0\n",
              "ind_cno_fin_ult1          0\n",
              "ind_ctju_fin_ult1         0\n",
              "ind_ctma_fin_ult1         0\n",
              "ind_ctop_fin_ult1         0\n",
              "ind_ctpp_fin_ult1         0\n",
              "ind_deco_fin_ult1         0\n",
              "ind_deme_fin_ult1         0\n",
              "ind_dela_fin_ult1         0\n",
              "ind_ecue_fin_ult1         0\n",
              "ind_fond_fin_ult1         0\n",
              "ind_hip_fin_ult1          0\n",
              "ind_plan_fin_ult1         0\n",
              "ind_pres_fin_ult1         0\n",
              "ind_reca_fin_ult1         0\n",
              "ind_tjcr_fin_ult1         0\n",
              "ind_valo_fin_ult1         0\n",
              "ind_viv_fin_ult1          0\n",
              "ind_nomina_ult1          63\n",
              "ind_nom_pens_ult1        63\n",
              "ind_recibo_ult1           0\n",
              "dtype: int64"
            ]
          },
          "metadata": {
            "tags": []
          },
          "execution_count": 54
        }
      ]
    },
    {
      "cell_type": "markdown",
      "metadata": {
        "id": "6fOokdIcO_mL",
        "colab_type": "text"
      },
      "source": [
        "Drop them directly. Though it is controversial to do in this way, the number of this systematic NA is not prominent compared to the whole dataset."
      ]
    },
    {
      "cell_type": "code",
      "metadata": {
        "id": "CU2f8rNTIbIj",
        "colab_type": "code",
        "outputId": "b3164f1f-a9df-483c-df93-86551de047bd",
        "colab": {
          "base_uri": "https://localhost:8080/",
          "height": 879
        }
      },
      "source": [
        "df_1=df.dropna(subset=[\"ind_empleado\"])\n",
        "df_1.isna().sum()"
      ],
      "execution_count": 55,
      "outputs": [
        {
          "output_type": "execute_result",
          "data": {
            "text/plain": [
              "fecha_dato                   0\n",
              "ncodpers                     0\n",
              "ind_empleado                 0\n",
              "pais_residencia              0\n",
              "sexo                         0\n",
              "age                          0\n",
              "fecha_alta                   0\n",
              "ind_nuevo                    0\n",
              "antiguedad                   0\n",
              "indrel                       0\n",
              "ult_fec_cli_1t           28650\n",
              "indrel_1mes                228\n",
              "tiprel_1mes                228\n",
              "indresi                      0\n",
              "indext                       0\n",
              "conyuemp                 28692\n",
              "canal_entrada              297\n",
              "indfall                      0\n",
              "tipodom                      0\n",
              "cod_prov                   102\n",
              "nomprov                    102\n",
              "ind_actividad_cliente        0\n",
              "renta                     5884\n",
              "segmento                   299\n",
              "ind_ahor_fin_ult1            0\n",
              "ind_aval_fin_ult1            0\n",
              "ind_cco_fin_ult1             0\n",
              "ind_cder_fin_ult1            0\n",
              "ind_cno_fin_ult1             0\n",
              "ind_ctju_fin_ult1            0\n",
              "ind_ctma_fin_ult1            0\n",
              "ind_ctop_fin_ult1            0\n",
              "ind_ctpp_fin_ult1            0\n",
              "ind_deco_fin_ult1            0\n",
              "ind_deme_fin_ult1            0\n",
              "ind_dela_fin_ult1            0\n",
              "ind_ecue_fin_ult1            0\n",
              "ind_fond_fin_ult1            0\n",
              "ind_hip_fin_ult1             0\n",
              "ind_plan_fin_ult1            0\n",
              "ind_pres_fin_ult1            0\n",
              "ind_reca_fin_ult1            0\n",
              "ind_tjcr_fin_ult1            0\n",
              "ind_valo_fin_ult1            0\n",
              "ind_viv_fin_ult1             0\n",
              "ind_nomina_ult1              0\n",
              "ind_nom_pens_ult1            0\n",
              "ind_recibo_ult1              0\n",
              "dtype: int64"
            ]
          },
          "metadata": {
            "tags": []
          },
          "execution_count": 55
        }
      ]
    },
    {
      "cell_type": "markdown",
      "metadata": {
        "id": "mpgWooOcP5DM",
        "colab_type": "text"
      },
      "source": [
        "Drop the columns which are not going to use in model training. The reason why these columns are deleted is due to their complexity, monotonicity, and interpretation. Some of them have lots of classes or on the contrast, only one class in the column. On the other hand, some of them have no interpretation for the topic."
      ]
    },
    {
      "cell_type": "code",
      "metadata": {
        "id": "VgZeqhc3wBMp",
        "colab_type": "code",
        "colab": {}
      },
      "source": [
        "df_1.drop([\"nomprov\",\"tipodom\",\"pais_residencia\",\"fecha_alta\",\"cod_prov\",\"nomprov\"],axis=1,inplace=True)"
      ],
      "execution_count": 0,
      "outputs": []
    },
    {
      "cell_type": "markdown",
      "metadata": {
        "id": "aTOvmj1ZRsrB",
        "colab_type": "text"
      },
      "source": [
        "In the following part, start cleaning NA column by column."
      ]
    },
    {
      "cell_type": "code",
      "metadata": {
        "id": "9wxKrq4eRq3v",
        "colab_type": "code",
        "colab": {
          "base_uri": "https://localhost:8080/",
          "height": 70
        },
        "outputId": "72a6b994-2269-498c-e6ed-b2bef26aca26"
      },
      "source": [
        "df_1[\"ult_fec_cli_1t\"].fillna(1,inplace=True)\n",
        "df_1[\"ult_fec_cli_1t\"][df_1[\"ult_fec_cli_1t\"]!=1]=0\n",
        "df_1[\"ult_fec_cli_1t\"].value_counts()"
      ],
      "execution_count": 57,
      "outputs": [
        {
          "output_type": "execute_result",
          "data": {
            "text/plain": [
              "1    28650\n",
              "0       60\n",
              "Name: ult_fec_cli_1t, dtype: int64"
            ]
          },
          "metadata": {
            "tags": []
          },
          "execution_count": 57
        }
      ]
    },
    {
      "cell_type": "code",
      "metadata": {
        "id": "APOo25_CL6_3",
        "colab_type": "code",
        "outputId": "821729ea-ff4b-4134-c6bd-4aabaa2d0de5",
        "colab": {
          "base_uri": "https://localhost:8080/",
          "height": 70
        }
      },
      "source": [
        "df_1[\"sexo\"].fillna(\"X\",inplace=True)\n",
        "df_1[\"sexo\"].value_counts()"
      ],
      "execution_count": 58,
      "outputs": [
        {
          "output_type": "execute_result",
          "data": {
            "text/plain": [
              "V    15201\n",
              "H    13509\n",
              "Name: sexo, dtype: int64"
            ]
          },
          "metadata": {
            "tags": []
          },
          "execution_count": 58
        }
      ]
    },
    {
      "cell_type": "code",
      "metadata": {
        "id": "ohMskjDVQQRH",
        "colab_type": "code",
        "outputId": "f9b9d23f-3846-4297-ee30-8a3540c75ee0",
        "colab": {
          "base_uri": "https://localhost:8080/",
          "height": 122
        }
      },
      "source": [
        "df_1[\"indrel_1mes\"].fillna(5,inplace=True)\n",
        "df_1[\"indrel_1mes\"].replace(\"P\",6,inplace=True)\n",
        "df_1[\"indrel_1mes\"]=df_1[\"indrel_1mes\"].astype(float)\n",
        "df_1[\"indrel_1mes\"]=df_1[\"indrel_1mes\"].astype(str)\n",
        "df_1[\"indrel_1mes\"].value_counts()"
      ],
      "execution_count": 59,
      "outputs": [
        {
          "output_type": "execute_result",
          "data": {
            "text/plain": [
              "1.0    28466\n",
              "5.0      228\n",
              "3.0       11\n",
              "2.0        3\n",
              "6.0        2\n",
              "Name: indrel_1mes, dtype: int64"
            ]
          },
          "metadata": {
            "tags": []
          },
          "execution_count": 59
        }
      ]
    },
    {
      "cell_type": "code",
      "metadata": {
        "id": "ZVUkX8qSVF-t",
        "colab_type": "code",
        "outputId": "4467415c-c449-4b77-9cb1-7e096d6cdf26",
        "colab": {
          "base_uri": "https://localhost:8080/",
          "height": 122
        }
      },
      "source": [
        "df_1[\"tiprel_1mes\"].fillna(\"X\",inplace=True)\n",
        "df_1[\"tiprel_1mes\"].value_counts()"
      ],
      "execution_count": 60,
      "outputs": [
        {
          "output_type": "execute_result",
          "data": {
            "text/plain": [
              "I    14794\n",
              "A    13675\n",
              "X      228\n",
              "P       11\n",
              "R        2\n",
              "Name: tiprel_1mes, dtype: int64"
            ]
          },
          "metadata": {
            "tags": []
          },
          "execution_count": 60
        }
      ]
    },
    {
      "cell_type": "code",
      "metadata": {
        "id": "EshW5Po2Qxa-",
        "colab_type": "code",
        "outputId": "bc546642-7f5d-4a67-e4db-611b0a22546d",
        "colab": {
          "base_uri": "https://localhost:8080/",
          "height": 52
        }
      },
      "source": [
        "df_1[\"conyuemp\"].fillna(\"N\",inplace=True)\n",
        "df_1[\"conyuemp\"].value_counts()"
      ],
      "execution_count": 61,
      "outputs": [
        {
          "output_type": "execute_result",
          "data": {
            "text/plain": [
              "N    28710\n",
              "Name: conyuemp, dtype: int64"
            ]
          },
          "metadata": {
            "tags": []
          },
          "execution_count": 61
        }
      ]
    },
    {
      "cell_type": "code",
      "metadata": {
        "id": "5Aj3q2IZQ1Fl",
        "colab_type": "code",
        "outputId": "9d089300-bf5c-4432-f0d5-8701d040ab74",
        "colab": {
          "base_uri": "https://localhost:8080/",
          "height": 105
        }
      },
      "source": [
        "df_1[\"canal_entrada\"].fillna(\"X\",inplace=True)\n",
        "df_1[\"canal_entrada\"].replace(df_1[\"canal_entrada\"].value_counts().keys()[3:],\"X\",inplace=True)\n",
        "df_1[\"canal_entrada\"].value_counts()"
      ],
      "execution_count": 62,
      "outputs": [
        {
          "output_type": "execute_result",
          "data": {
            "text/plain": [
              "KHE    8352\n",
              "X      6967\n",
              "KAT    6806\n",
              "KFC    6585\n",
              "Name: canal_entrada, dtype: int64"
            ]
          },
          "metadata": {
            "tags": []
          },
          "execution_count": 62
        }
      ]
    },
    {
      "cell_type": "code",
      "metadata": {
        "id": "3ys6DbP4XtmU",
        "colab_type": "code",
        "outputId": "cbb0665e-a08c-41c7-ecb1-061be0f9729f",
        "colab": {
          "base_uri": "https://localhost:8080/",
          "height": 105
        }
      },
      "source": [
        "df_1[\"segmento\"].fillna(\"X\",inplace=True)\n",
        "df_1[\"segmento\"].value_counts()"
      ],
      "execution_count": 63,
      "outputs": [
        {
          "output_type": "execute_result",
          "data": {
            "text/plain": [
              "02 - PARTICULARES     16757\n",
              "03 - UNIVERSITARIO    10269\n",
              "01 - TOP               1385\n",
              "X                       299\n",
              "Name: segmento, dtype: int64"
            ]
          },
          "metadata": {
            "tags": []
          },
          "execution_count": 63
        }
      ]
    },
    {
      "cell_type": "code",
      "metadata": {
        "id": "wNNSFTsTYAFE",
        "colab_type": "code",
        "outputId": "a95f8fba-2eb4-473a-9346-2d409f8a00b9",
        "colab": {
          "base_uri": "https://localhost:8080/",
          "height": 175
        }
      },
      "source": [
        "df_1[\"renta\"].fillna(df_1[\"renta\"].median(),inplace=True)\n",
        "df_1[\"renta\"].describe()"
      ],
      "execution_count": 64,
      "outputs": [
        {
          "output_type": "execute_result",
          "data": {
            "text/plain": [
              "count    2.871000e+04\n",
              "mean     1.324185e+05\n",
              "std      2.375945e+05\n",
              "min      1.647351e+04\n",
              "25%      7.594107e+04\n",
              "50%      1.034880e+05\n",
              "75%      1.410722e+05\n",
              "max      8.658967e+06\n",
              "Name: renta, dtype: float64"
            ]
          },
          "metadata": {
            "tags": []
          },
          "execution_count": 64
        }
      ]
    },
    {
      "cell_type": "code",
      "metadata": {
        "id": "2fcsUO9RYI_U",
        "colab_type": "code",
        "outputId": "7372f5ac-3b52-4735-e49b-f37202d7ac3e",
        "colab": {
          "base_uri": "https://localhost:8080/",
          "height": 70
        }
      },
      "source": [
        "df_1[\"ind_nomina_ult1\"].fillna(0,inplace=True)\n",
        "df_1[\"ind_nomina_ult1\"].value_counts()"
      ],
      "execution_count": 65,
      "outputs": [
        {
          "output_type": "execute_result",
          "data": {
            "text/plain": [
              "0.0    27056\n",
              "1.0     1654\n",
              "Name: ind_nomina_ult1, dtype: int64"
            ]
          },
          "metadata": {
            "tags": []
          },
          "execution_count": 65
        }
      ]
    },
    {
      "cell_type": "code",
      "metadata": {
        "id": "41rXe9a5YXC9",
        "colab_type": "code",
        "outputId": "a6f8a1f2-0d44-44c5-c2b0-28da93bf8e44",
        "colab": {
          "base_uri": "https://localhost:8080/",
          "height": 70
        }
      },
      "source": [
        "df_1[\"ind_nom_pens_ult1\"].fillna(0,inplace=True)\n",
        "df_1[\"ind_nom_pens_ult1\"].value_counts()"
      ],
      "execution_count": 66,
      "outputs": [
        {
          "output_type": "execute_result",
          "data": {
            "text/plain": [
              "0.0    26876\n",
              "1.0     1834\n",
              "Name: ind_nom_pens_ult1, dtype: int64"
            ]
          },
          "metadata": {
            "tags": []
          },
          "execution_count": 66
        }
      ]
    },
    {
      "cell_type": "code",
      "metadata": {
        "id": "n1MZ5nPVZpyG",
        "colab_type": "code",
        "outputId": "f3783511-8edf-4193-fca3-f24e28c383d3",
        "colab": {
          "base_uri": "https://localhost:8080/",
          "height": 246
        }
      },
      "source": [
        "df_1[\"month\"] = pd.DatetimeIndex(df_1[\"fecha_dato\"]).month\n",
        "df_1[\"month\"].value_counts()"
      ],
      "execution_count": 67,
      "outputs": [
        {
          "output_type": "execute_result",
          "data": {
            "text/plain": [
              "5     3293\n",
              "4     3282\n",
              "3     3269\n",
              "2     3257\n",
              "1     3235\n",
              "12    1908\n",
              "11    1895\n",
              "10    1875\n",
              "9     1819\n",
              "8     1775\n",
              "7     1754\n",
              "6     1348\n",
              "Name: month, dtype: int64"
            ]
          },
          "metadata": {
            "tags": []
          },
          "execution_count": 67
        }
      ]
    },
    {
      "cell_type": "code",
      "metadata": {
        "id": "1No2SYiCZtIG",
        "colab_type": "code",
        "outputId": "60fcb99f-63ef-447c-a7bd-e9c3d88cadd9",
        "colab": {
          "base_uri": "https://localhost:8080/",
          "height": 441
        }
      },
      "source": [
        "df_1[\"age\"] = pd.to_numeric(df[\"age\"], errors=\"coerce\")\n",
        "print(df_1[\"age\"].describe())\n",
        "df_1[\"age\"].plot(kind=\"box\")"
      ],
      "execution_count": 68,
      "outputs": [
        {
          "output_type": "stream",
          "text": [
            "count    28710.000000\n",
            "mean        40.206827\n",
            "std         16.906228\n",
            "min          4.000000\n",
            "25%         24.000000\n",
            "50%         39.000000\n",
            "75%         50.000000\n",
            "max        103.000000\n",
            "Name: age, dtype: float64\n"
          ],
          "name": "stdout"
        },
        {
          "output_type": "execute_result",
          "data": {
            "text/plain": [
              "<matplotlib.axes._subplots.AxesSubplot at 0x7f82bd7af3c8>"
            ]
          },
          "metadata": {
            "tags": []
          },
          "execution_count": 68
        },
        {
          "output_type": "display_data",
          "data": {
            "image/png": "[encoded data removed]",
            "text/plain": [
              "<Figure size 432x288 with 1 Axes>"
            ]
          },
          "metadata": {
            "tags": []
          }
        }
      ]
    },
    {
      "cell_type": "code",
      "metadata": {
        "id": "wW7D7CNVnJQP",
        "colab_type": "code",
        "outputId": "e0eb3ac8-a323-40e6-bee4-15acac4bbf6f",
        "colab": {
          "base_uri": "https://localhost:8080/",
          "height": 441
        }
      },
      "source": [
        "df_1[\"antiguedad\"] = pd.to_numeric(df[\"antiguedad\"], errors=\"coerce\")\n",
        "df_1.loc[df_1.antiguedad <= 0,\"antiguedad\"]=0\n",
        "print(df_1[\"antiguedad\"].describe())\n",
        "df_1[\"antiguedad\"].plot(kind=\"box\")"
      ],
      "execution_count": 69,
      "outputs": [
        {
          "output_type": "stream",
          "text": [
            "count    28710.000000\n",
            "mean        79.673563\n",
            "std         65.943008\n",
            "min          0.000000\n",
            "25%         23.000000\n",
            "50%         51.000000\n",
            "75%        136.000000\n",
            "max        256.000000\n",
            "Name: antiguedad, dtype: float64\n"
          ],
          "name": "stdout"
        },
        {
          "output_type": "execute_result",
          "data": {
            "text/plain": [
              "<matplotlib.axes._subplots.AxesSubplot at 0x7f82bd5b1b38>"
            ]
          },
          "metadata": {
            "tags": []
          },
          "execution_count": 69
        },
        {
          "output_type": "display_data",
          "data": {
            "image/png": "[encoded data removed]",
            "text/plain": [
              "<Figure size 432x288 with 1 Axes>"
            ]
          },
          "metadata": {
            "tags": []
          }
        }
      ]
    },
    {
      "cell_type": "markdown",
      "metadata": {
        "id": "Gg8PHpeTTiFy",
        "colab_type": "text"
      },
      "source": [
        "# 2. Feature engineer"
      ]
    },
    {
      "cell_type": "markdown",
      "metadata": {
        "id": "jFwi6-_3TpKJ",
        "colab_type": "text"
      },
      "source": [
        "Generate time using \"fecha_dato\", it is also a index to partition the dataset."
      ]
    },
    {
      "cell_type": "code",
      "metadata": {
        "id": "Hc55knfWlNI7",
        "colab_type": "code",
        "outputId": "db291978-33b3-49b3-af4b-f0b915c6fd99",
        "colab": {
          "base_uri": "https://localhost:8080/",
          "height": 175
        }
      },
      "source": [
        "df_1[\"time\"]=(pd.DatetimeIndex(df_1[\"fecha_dato\"]).year-2015)*12+pd.DatetimeIndex(df_1[\"fecha_dato\"]).month\n",
        "df_1[\"time\"].describe()"
      ],
      "execution_count": 70,
      "outputs": [
        {
          "output_type": "execute_result",
          "data": {
            "text/plain": [
              "count    28710.000000\n",
              "mean         9.705782\n",
              "std          4.775440\n",
              "min          1.000000\n",
              "25%          6.000000\n",
              "50%         10.000000\n",
              "75%         14.000000\n",
              "max         17.000000\n",
              "Name: time, dtype: float64"
            ]
          },
          "metadata": {
            "tags": []
          },
          "execution_count": 70
        }
      ]
    },
    {
      "cell_type": "code",
      "metadata": {
        "id": "xt1BX0AWoxWb",
        "colab_type": "code",
        "colab": {}
      },
      "source": [
        "target_cols_all = ['ind_ahor_fin_ult1','ind_aval_fin_ult1','ind_cco_fin_ult1',\n",
        "               'ind_cder_fin_ult1','ind_cno_fin_ult1','ind_ctju_fin_ult1',\n",
        "               'ind_ctma_fin_ult1','ind_ctop_fin_ult1','ind_ctpp_fin_ult1',\n",
        "               'ind_deco_fin_ult1','ind_deme_fin_ult1','ind_dela_fin_ult1',\n",
        "               'ind_ecue_fin_ult1','ind_fond_fin_ult1','ind_hip_fin_ult1',\n",
        "               'ind_plan_fin_ult1','ind_pres_fin_ult1','ind_reca_fin_ult1',\n",
        "               'ind_tjcr_fin_ult1','ind_valo_fin_ult1','ind_viv_fin_ult1',\n",
        "               'ind_nomina_ult1','ind_nom_pens_ult1','ind_recibo_ult1']\n",
        "target_cols_all_plus = ['ind_ahor_fin_ult1','ind_aval_fin_ult1','ind_cco_fin_ult1',\n",
        "               'ind_cder_fin_ult1','ind_cno_fin_ult1','ind_ctju_fin_ult1',\n",
        "               'ind_ctma_fin_ult1','ind_ctop_fin_ult1','ind_ctpp_fin_ult1',\n",
        "               'ind_deco_fin_ult1','ind_deme_fin_ult1','ind_dela_fin_ult1',\n",
        "               'ind_ecue_fin_ult1','ind_fond_fin_ult1','ind_hip_fin_ult1',\n",
        "               'ind_plan_fin_ult1','ind_pres_fin_ult1','ind_reca_fin_ult1',\n",
        "               'ind_tjcr_fin_ult1','ind_valo_fin_ult1','ind_viv_fin_ult1',\n",
        "               'ind_nomina_ult1','ind_nom_pens_ult1','ind_recibo_ult1','pro_have_sum']"
      ],
      "execution_count": 0,
      "outputs": []
    },
    {
      "cell_type": "markdown",
      "metadata": {
        "id": "IN4bgWtSUSUE",
        "colab_type": "text"
      },
      "source": [
        "\"pro_have_sum\" is the products a certain client has at certain moment."
      ]
    },
    {
      "cell_type": "code",
      "metadata": {
        "id": "DeH8rkir3sRR",
        "colab_type": "code",
        "outputId": "e641715d-8461-40db-cf3f-f9d9067c7028",
        "colab": {
          "base_uri": "https://localhost:8080/",
          "height": 175
        }
      },
      "source": [
        "df_1[\"pro_have_sum\"]=df_1[target_cols_all].sum(1)\n",
        "df_1[\"pro_have_sum\"].describe()"
      ],
      "execution_count": 72,
      "outputs": [
        {
          "output_type": "execute_result",
          "data": {
            "text/plain": [
              "count    28710.000000\n",
              "mean         1.503030\n",
              "std          1.567407\n",
              "min          0.000000\n",
              "25%          1.000000\n",
              "50%          1.000000\n",
              "75%          2.000000\n",
              "max         11.000000\n",
              "Name: pro_have_sum, dtype: float64"
            ]
          },
          "metadata": {
            "tags": []
          },
          "execution_count": 72
        }
      ]
    },
    {
      "cell_type": "markdown",
      "metadata": {
        "id": "F-UQp8LwUlra",
        "colab_type": "text"
      },
      "source": [
        "Here is an interesting part. The original problem on Kaggle wants to predict the added products rather the products that clients already have. Thus, I transform the products' columns using t minus t-1 to generate this kind of dataset."
      ]
    },
    {
      "cell_type": "code",
      "metadata": {
        "id": "RDtT-XIX_9PH",
        "colab_type": "code",
        "outputId": "bfe9a807-b3f5-486c-a458-af657fdc0104",
        "colab": {
          "base_uri": "https://localhost:8080/",
          "height": 241
        }
      },
      "source": [
        "import numpy as np\n",
        "\n",
        "np1=np.zeros(25)\n",
        "for k in range(2,18):\n",
        "  df_temp=df_1[df_1[\"time\"]==(k-1)]\n",
        "  df_ex=df_1[df_1[\"time\"]==k]\n",
        "  for i in range(len(df_ex[\"ncodpers\"])):\n",
        "    np2=np.zeros(25)\n",
        "    for j in range(len(df_temp[\"ncodpers\"])):\n",
        "      if(df_ex.iloc[i,1]==df_temp.iloc[j,1]):\n",
        "        np2=np.array(df_ex.iloc[i,19:43])-np.array(df_temp.iloc[j,19:43])\n",
        "        sum_1=np.array(df_temp.iloc[j,45])\n",
        "        np2=np.append(np2,sum_1)\n",
        "        break\n",
        "    np1=np.row_stack((np1,np2))\n",
        "\n",
        "df_add=pd.DataFrame(np1)\n",
        "df_add.drop(0,axis=0,inplace=True)\n",
        "df_add.reset_index(drop=True,inplace=True)\n",
        "df_add.columns=target_cols_all_plus\n",
        "for i in target_cols_all_plus:\n",
        "  df_add[i][df_add[i]<0]=0\n",
        "print(df_add.shape)\n",
        "df_add.head()"
      ],
      "execution_count": 73,
      "outputs": [
        {
          "output_type": "stream",
          "text": [
            "(27389, 25)\n"
          ],
          "name": "stdout"
        },
        {
          "output_type": "execute_result",
          "data": {
            "text/html": [
              "<div>\n",
              "<style scoped>\n",
              "    .dataframe tbody tr th:only-of-type {\n",
              "        vertical-align: middle;\n",
              "    }\n",
              "\n",
              "    .dataframe tbody tr th {\n",
              "        vertical-align: top;\n",
              "    }\n",
              "\n",
              "    .dataframe thead th {\n",
              "        text-align: right;\n",
              "    }\n",
              "</style>\n",
              "<table border=\"1\" class=\"dataframe\">\n",
              "  <thead>\n",
              "    <tr style=\"text-align: right;\">\n",
              "      <th></th>\n",
              "      <th>ind_ahor_fin_ult1</th>\n",
              "      <th>ind_aval_fin_ult1</th>\n",
              "      <th>ind_cco_fin_ult1</th>\n",
              "      <th>ind_cder_fin_ult1</th>\n",
              "      <th>ind_cno_fin_ult1</th>\n",
              "      <th>ind_ctju_fin_ult1</th>\n",
              "      <th>ind_ctma_fin_ult1</th>\n",
              "      <th>ind_ctop_fin_ult1</th>\n",
              "      <th>ind_ctpp_fin_ult1</th>\n",
              "      <th>ind_deco_fin_ult1</th>\n",
              "      <th>ind_deme_fin_ult1</th>\n",
              "      <th>ind_dela_fin_ult1</th>\n",
              "      <th>ind_ecue_fin_ult1</th>\n",
              "      <th>ind_fond_fin_ult1</th>\n",
              "      <th>ind_hip_fin_ult1</th>\n",
              "      <th>ind_plan_fin_ult1</th>\n",
              "      <th>ind_pres_fin_ult1</th>\n",
              "      <th>ind_reca_fin_ult1</th>\n",
              "      <th>ind_tjcr_fin_ult1</th>\n",
              "      <th>ind_valo_fin_ult1</th>\n",
              "      <th>ind_viv_fin_ult1</th>\n",
              "      <th>ind_nomina_ult1</th>\n",
              "      <th>ind_nom_pens_ult1</th>\n",
              "      <th>ind_recibo_ult1</th>\n",
              "      <th>pro_have_sum</th>\n",
              "    </tr>\n",
              "  </thead>\n",
              "  <tbody>\n",
              "    <tr>\n",
              "      <th>0</th>\n",
              "      <td>0</td>\n",
              "      <td>0</td>\n",
              "      <td>0</td>\n",
              "      <td>0</td>\n",
              "      <td>0</td>\n",
              "      <td>0</td>\n",
              "      <td>0</td>\n",
              "      <td>0</td>\n",
              "      <td>0</td>\n",
              "      <td>0</td>\n",
              "      <td>0</td>\n",
              "      <td>0</td>\n",
              "      <td>0</td>\n",
              "      <td>0</td>\n",
              "      <td>0</td>\n",
              "      <td>0</td>\n",
              "      <td>0</td>\n",
              "      <td>0</td>\n",
              "      <td>0</td>\n",
              "      <td>0</td>\n",
              "      <td>0</td>\n",
              "      <td>0</td>\n",
              "      <td>0</td>\n",
              "      <td>0</td>\n",
              "      <td>6</td>\n",
              "    </tr>\n",
              "    <tr>\n",
              "      <th>1</th>\n",
              "      <td>0</td>\n",
              "      <td>0</td>\n",
              "      <td>0</td>\n",
              "      <td>0</td>\n",
              "      <td>0</td>\n",
              "      <td>0</td>\n",
              "      <td>0</td>\n",
              "      <td>0</td>\n",
              "      <td>0</td>\n",
              "      <td>0</td>\n",
              "      <td>0</td>\n",
              "      <td>0</td>\n",
              "      <td>0</td>\n",
              "      <td>0</td>\n",
              "      <td>0</td>\n",
              "      <td>0</td>\n",
              "      <td>0</td>\n",
              "      <td>0</td>\n",
              "      <td>0</td>\n",
              "      <td>0</td>\n",
              "      <td>0</td>\n",
              "      <td>0</td>\n",
              "      <td>0</td>\n",
              "      <td>0</td>\n",
              "      <td>2</td>\n",
              "    </tr>\n",
              "    <tr>\n",
              "      <th>2</th>\n",
              "      <td>0</td>\n",
              "      <td>0</td>\n",
              "      <td>0</td>\n",
              "      <td>0</td>\n",
              "      <td>0</td>\n",
              "      <td>0</td>\n",
              "      <td>0</td>\n",
              "      <td>0</td>\n",
              "      <td>0</td>\n",
              "      <td>0</td>\n",
              "      <td>0</td>\n",
              "      <td>0</td>\n",
              "      <td>0</td>\n",
              "      <td>0</td>\n",
              "      <td>0</td>\n",
              "      <td>0</td>\n",
              "      <td>0</td>\n",
              "      <td>0</td>\n",
              "      <td>0</td>\n",
              "      <td>0</td>\n",
              "      <td>0</td>\n",
              "      <td>0</td>\n",
              "      <td>0</td>\n",
              "      <td>0</td>\n",
              "      <td>2</td>\n",
              "    </tr>\n",
              "    <tr>\n",
              "      <th>3</th>\n",
              "      <td>0</td>\n",
              "      <td>0</td>\n",
              "      <td>0</td>\n",
              "      <td>0</td>\n",
              "      <td>0</td>\n",
              "      <td>0</td>\n",
              "      <td>0</td>\n",
              "      <td>0</td>\n",
              "      <td>0</td>\n",
              "      <td>0</td>\n",
              "      <td>0</td>\n",
              "      <td>0</td>\n",
              "      <td>0</td>\n",
              "      <td>0</td>\n",
              "      <td>0</td>\n",
              "      <td>0</td>\n",
              "      <td>0</td>\n",
              "      <td>0</td>\n",
              "      <td>0</td>\n",
              "      <td>0</td>\n",
              "      <td>0</td>\n",
              "      <td>0</td>\n",
              "      <td>0</td>\n",
              "      <td>0</td>\n",
              "      <td>1</td>\n",
              "    </tr>\n",
              "    <tr>\n",
              "      <th>4</th>\n",
              "      <td>0</td>\n",
              "      <td>0</td>\n",
              "      <td>0</td>\n",
              "      <td>0</td>\n",
              "      <td>0</td>\n",
              "      <td>0</td>\n",
              "      <td>0</td>\n",
              "      <td>0</td>\n",
              "      <td>0</td>\n",
              "      <td>0</td>\n",
              "      <td>0</td>\n",
              "      <td>1</td>\n",
              "      <td>0</td>\n",
              "      <td>0</td>\n",
              "      <td>0</td>\n",
              "      <td>0</td>\n",
              "      <td>0</td>\n",
              "      <td>0</td>\n",
              "      <td>0</td>\n",
              "      <td>0</td>\n",
              "      <td>0</td>\n",
              "      <td>0</td>\n",
              "      <td>0</td>\n",
              "      <td>0</td>\n",
              "      <td>1</td>\n",
              "    </tr>\n",
              "  </tbody>\n",
              "</table>\n",
              "</div>"
            ],
            "text/plain": [
              "  ind_ahor_fin_ult1 ind_aval_fin_ult1  ... ind_recibo_ult1 pro_have_sum\n",
              "0                 0                 0  ...               0            6\n",
              "1                 0                 0  ...               0            2\n",
              "2                 0                 0  ...               0            2\n",
              "3                 0                 0  ...               0            1\n",
              "4                 0                 0  ...               0            1\n",
              "\n",
              "[5 rows x 25 columns]"
            ]
          },
          "metadata": {
            "tags": []
          },
          "execution_count": 73
        }
      ]
    },
    {
      "cell_type": "markdown",
      "metadata": {
        "id": "v9YlhrdvVmk7",
        "colab_type": "text"
      },
      "source": [
        "Based on what I do in last cell, the first month then has no meaning in the model."
      ]
    },
    {
      "cell_type": "code",
      "metadata": {
        "id": "_bSezfaqPYGB",
        "colab_type": "code",
        "outputId": "f5220902-7a1d-4068-9290-35db5175ac08",
        "colab": {
          "base_uri": "https://localhost:8080/",
          "height": 292
        }
      },
      "source": [
        "df_1=df_1[df_1[\"time\"]>1]\n",
        "print(df_1.shape)\n",
        "df_1.head()"
      ],
      "execution_count": 74,
      "outputs": [
        {
          "output_type": "stream",
          "text": [
            "(27389, 46)\n"
          ],
          "name": "stdout"
        },
        {
          "output_type": "execute_result",
          "data": {
            "text/html": [
              "<div>\n",
              "<style scoped>\n",
              "    .dataframe tbody tr th:only-of-type {\n",
              "        vertical-align: middle;\n",
              "    }\n",
              "\n",
              "    .dataframe tbody tr th {\n",
              "        vertical-align: top;\n",
              "    }\n",
              "\n",
              "    .dataframe thead th {\n",
              "        text-align: right;\n",
              "    }\n",
              "</style>\n",
              "<table border=\"1\" class=\"dataframe\">\n",
              "  <thead>\n",
              "    <tr style=\"text-align: right;\">\n",
              "      <th></th>\n",
              "      <th>fecha_dato</th>\n",
              "      <th>ncodpers</th>\n",
              "      <th>ind_empleado</th>\n",
              "      <th>sexo</th>\n",
              "      <th>age</th>\n",
              "      <th>ind_nuevo</th>\n",
              "      <th>antiguedad</th>\n",
              "      <th>indrel</th>\n",
              "      <th>ult_fec_cli_1t</th>\n",
              "      <th>indrel_1mes</th>\n",
              "      <th>tiprel_1mes</th>\n",
              "      <th>indresi</th>\n",
              "      <th>indext</th>\n",
              "      <th>conyuemp</th>\n",
              "      <th>canal_entrada</th>\n",
              "      <th>indfall</th>\n",
              "      <th>ind_actividad_cliente</th>\n",
              "      <th>renta</th>\n",
              "      <th>segmento</th>\n",
              "      <th>ind_ahor_fin_ult1</th>\n",
              "      <th>ind_aval_fin_ult1</th>\n",
              "      <th>ind_cco_fin_ult1</th>\n",
              "      <th>ind_cder_fin_ult1</th>\n",
              "      <th>ind_cno_fin_ult1</th>\n",
              "      <th>ind_ctju_fin_ult1</th>\n",
              "      <th>ind_ctma_fin_ult1</th>\n",
              "      <th>ind_ctop_fin_ult1</th>\n",
              "      <th>ind_ctpp_fin_ult1</th>\n",
              "      <th>ind_deco_fin_ult1</th>\n",
              "      <th>ind_deme_fin_ult1</th>\n",
              "      <th>ind_dela_fin_ult1</th>\n",
              "      <th>ind_ecue_fin_ult1</th>\n",
              "      <th>ind_fond_fin_ult1</th>\n",
              "      <th>ind_hip_fin_ult1</th>\n",
              "      <th>ind_plan_fin_ult1</th>\n",
              "      <th>ind_pres_fin_ult1</th>\n",
              "      <th>ind_reca_fin_ult1</th>\n",
              "      <th>ind_tjcr_fin_ult1</th>\n",
              "      <th>ind_valo_fin_ult1</th>\n",
              "      <th>ind_viv_fin_ult1</th>\n",
              "      <th>ind_nomina_ult1</th>\n",
              "      <th>ind_nom_pens_ult1</th>\n",
              "      <th>ind_recibo_ult1</th>\n",
              "      <th>month</th>\n",
              "      <th>time</th>\n",
              "      <th>pro_have_sum</th>\n",
              "    </tr>\n",
              "  </thead>\n",
              "  <tbody>\n",
              "    <tr>\n",
              "      <th>625696</th>\n",
              "      <td>2015-02-28</td>\n",
              "      <td>544877</td>\n",
              "      <td>N</td>\n",
              "      <td>H</td>\n",
              "      <td>49.0</td>\n",
              "      <td>0.0</td>\n",
              "      <td>120.0</td>\n",
              "      <td>1.0</td>\n",
              "      <td>1</td>\n",
              "      <td>1.0</td>\n",
              "      <td>A</td>\n",
              "      <td>S</td>\n",
              "      <td>N</td>\n",
              "      <td>N</td>\n",
              "      <td>KAT</td>\n",
              "      <td>N</td>\n",
              "      <td>1.0</td>\n",
              "      <td>92120.46</td>\n",
              "      <td>01 - TOP</td>\n",
              "      <td>0</td>\n",
              "      <td>0</td>\n",
              "      <td>0</td>\n",
              "      <td>0</td>\n",
              "      <td>1</td>\n",
              "      <td>0</td>\n",
              "      <td>0</td>\n",
              "      <td>0</td>\n",
              "      <td>0</td>\n",
              "      <td>0</td>\n",
              "      <td>0</td>\n",
              "      <td>1</td>\n",
              "      <td>1</td>\n",
              "      <td>0</td>\n",
              "      <td>0</td>\n",
              "      <td>0</td>\n",
              "      <td>0</td>\n",
              "      <td>0</td>\n",
              "      <td>0</td>\n",
              "      <td>0</td>\n",
              "      <td>0</td>\n",
              "      <td>1.0</td>\n",
              "      <td>1.0</td>\n",
              "      <td>1</td>\n",
              "      <td>2</td>\n",
              "      <td>2</td>\n",
              "      <td>6.0</td>\n",
              "    </tr>\n",
              "    <tr>\n",
              "      <th>626241</th>\n",
              "      <td>2015-02-28</td>\n",
              "      <td>542935</td>\n",
              "      <td>N</td>\n",
              "      <td>H</td>\n",
              "      <td>42.0</td>\n",
              "      <td>0.0</td>\n",
              "      <td>38.0</td>\n",
              "      <td>1.0</td>\n",
              "      <td>1</td>\n",
              "      <td>1.0</td>\n",
              "      <td>A</td>\n",
              "      <td>S</td>\n",
              "      <td>N</td>\n",
              "      <td>N</td>\n",
              "      <td>X</td>\n",
              "      <td>N</td>\n",
              "      <td>1.0</td>\n",
              "      <td>97627.32</td>\n",
              "      <td>02 - PARTICULARES</td>\n",
              "      <td>0</td>\n",
              "      <td>0</td>\n",
              "      <td>1</td>\n",
              "      <td>0</td>\n",
              "      <td>0</td>\n",
              "      <td>0</td>\n",
              "      <td>0</td>\n",
              "      <td>0</td>\n",
              "      <td>0</td>\n",
              "      <td>0</td>\n",
              "      <td>0</td>\n",
              "      <td>0</td>\n",
              "      <td>0</td>\n",
              "      <td>0</td>\n",
              "      <td>0</td>\n",
              "      <td>0</td>\n",
              "      <td>0</td>\n",
              "      <td>0</td>\n",
              "      <td>0</td>\n",
              "      <td>0</td>\n",
              "      <td>0</td>\n",
              "      <td>0.0</td>\n",
              "      <td>0.0</td>\n",
              "      <td>0</td>\n",
              "      <td>2</td>\n",
              "      <td>2</td>\n",
              "      <td>1.0</td>\n",
              "    </tr>\n",
              "    <tr>\n",
              "      <th>626517</th>\n",
              "      <td>2015-02-28</td>\n",
              "      <td>544451</td>\n",
              "      <td>N</td>\n",
              "      <td>H</td>\n",
              "      <td>38.0</td>\n",
              "      <td>0.0</td>\n",
              "      <td>51.0</td>\n",
              "      <td>1.0</td>\n",
              "      <td>1</td>\n",
              "      <td>1.0</td>\n",
              "      <td>A</td>\n",
              "      <td>S</td>\n",
              "      <td>N</td>\n",
              "      <td>N</td>\n",
              "      <td>KFC</td>\n",
              "      <td>N</td>\n",
              "      <td>1.0</td>\n",
              "      <td>161127.63</td>\n",
              "      <td>02 - PARTICULARES</td>\n",
              "      <td>0</td>\n",
              "      <td>0</td>\n",
              "      <td>1</td>\n",
              "      <td>0</td>\n",
              "      <td>0</td>\n",
              "      <td>0</td>\n",
              "      <td>1</td>\n",
              "      <td>0</td>\n",
              "      <td>0</td>\n",
              "      <td>0</td>\n",
              "      <td>0</td>\n",
              "      <td>0</td>\n",
              "      <td>0</td>\n",
              "      <td>0</td>\n",
              "      <td>0</td>\n",
              "      <td>0</td>\n",
              "      <td>0</td>\n",
              "      <td>0</td>\n",
              "      <td>0</td>\n",
              "      <td>0</td>\n",
              "      <td>0</td>\n",
              "      <td>0.0</td>\n",
              "      <td>0.0</td>\n",
              "      <td>0</td>\n",
              "      <td>2</td>\n",
              "      <td>2</td>\n",
              "      <td>2.0</td>\n",
              "    </tr>\n",
              "    <tr>\n",
              "      <th>627752</th>\n",
              "      <td>2015-02-28</td>\n",
              "      <td>548373</td>\n",
              "      <td>N</td>\n",
              "      <td>H</td>\n",
              "      <td>59.0</td>\n",
              "      <td>0.0</td>\n",
              "      <td>119.0</td>\n",
              "      <td>1.0</td>\n",
              "      <td>1</td>\n",
              "      <td>1.0</td>\n",
              "      <td>A</td>\n",
              "      <td>S</td>\n",
              "      <td>N</td>\n",
              "      <td>N</td>\n",
              "      <td>KFC</td>\n",
              "      <td>N</td>\n",
              "      <td>1.0</td>\n",
              "      <td>293076.09</td>\n",
              "      <td>02 - PARTICULARES</td>\n",
              "      <td>0</td>\n",
              "      <td>0</td>\n",
              "      <td>1</td>\n",
              "      <td>0</td>\n",
              "      <td>0</td>\n",
              "      <td>0</td>\n",
              "      <td>0</td>\n",
              "      <td>0</td>\n",
              "      <td>0</td>\n",
              "      <td>0</td>\n",
              "      <td>0</td>\n",
              "      <td>0</td>\n",
              "      <td>0</td>\n",
              "      <td>0</td>\n",
              "      <td>0</td>\n",
              "      <td>0</td>\n",
              "      <td>0</td>\n",
              "      <td>0</td>\n",
              "      <td>0</td>\n",
              "      <td>0</td>\n",
              "      <td>0</td>\n",
              "      <td>0.0</td>\n",
              "      <td>0.0</td>\n",
              "      <td>0</td>\n",
              "      <td>2</td>\n",
              "      <td>2</td>\n",
              "      <td>1.0</td>\n",
              "    </tr>\n",
              "    <tr>\n",
              "      <th>630009</th>\n",
              "      <td>2015-02-28</td>\n",
              "      <td>539537</td>\n",
              "      <td>N</td>\n",
              "      <td>H</td>\n",
              "      <td>49.0</td>\n",
              "      <td>0.0</td>\n",
              "      <td>12.0</td>\n",
              "      <td>1.0</td>\n",
              "      <td>1</td>\n",
              "      <td>1.0</td>\n",
              "      <td>A</td>\n",
              "      <td>S</td>\n",
              "      <td>N</td>\n",
              "      <td>N</td>\n",
              "      <td>X</td>\n",
              "      <td>N</td>\n",
              "      <td>1.0</td>\n",
              "      <td>140949.06</td>\n",
              "      <td>01 - TOP</td>\n",
              "      <td>0</td>\n",
              "      <td>0</td>\n",
              "      <td>0</td>\n",
              "      <td>0</td>\n",
              "      <td>0</td>\n",
              "      <td>0</td>\n",
              "      <td>0</td>\n",
              "      <td>0</td>\n",
              "      <td>0</td>\n",
              "      <td>0</td>\n",
              "      <td>0</td>\n",
              "      <td>1</td>\n",
              "      <td>0</td>\n",
              "      <td>0</td>\n",
              "      <td>0</td>\n",
              "      <td>0</td>\n",
              "      <td>0</td>\n",
              "      <td>0</td>\n",
              "      <td>0</td>\n",
              "      <td>0</td>\n",
              "      <td>0</td>\n",
              "      <td>0.0</td>\n",
              "      <td>0.0</td>\n",
              "      <td>0</td>\n",
              "      <td>2</td>\n",
              "      <td>2</td>\n",
              "      <td>1.0</td>\n",
              "    </tr>\n",
              "  </tbody>\n",
              "</table>\n",
              "</div>"
            ],
            "text/plain": [
              "        fecha_dato  ncodpers ind_empleado  ... month  time  pro_have_sum\n",
              "625696  2015-02-28    544877            N  ...     2     2           6.0\n",
              "626241  2015-02-28    542935            N  ...     2     2           1.0\n",
              "626517  2015-02-28    544451            N  ...     2     2           2.0\n",
              "627752  2015-02-28    548373            N  ...     2     2           1.0\n",
              "630009  2015-02-28    539537            N  ...     2     2           1.0\n",
              "\n",
              "[5 rows x 46 columns]"
            ]
          },
          "metadata": {
            "tags": []
          },
          "execution_count": 74
        }
      ]
    },
    {
      "cell_type": "markdown",
      "metadata": {
        "id": "gcORpQdMV9-3",
        "colab_type": "text"
      },
      "source": [
        "Replace the original dataset."
      ]
    },
    {
      "cell_type": "code",
      "metadata": {
        "id": "T2Y4YqY76Vey",
        "colab_type": "code",
        "outputId": "3b2f24ca-0cca-47ea-d79f-a92723148756",
        "colab": {
          "base_uri": "https://localhost:8080/",
          "height": 292
        }
      },
      "source": [
        "df_1.drop(target_cols_all_plus,axis=1,inplace=True)\n",
        "df_1.reset_index(drop=True,inplace=True)\n",
        "df_1=pd.concat([df_1,df_add],axis=1)\n",
        "print(df_1.shape)\n",
        "df_1.head()"
      ],
      "execution_count": 75,
      "outputs": [
        {
          "output_type": "stream",
          "text": [
            "(27389, 46)\n"
          ],
          "name": "stdout"
        },
        {
          "output_type": "execute_result",
          "data": {
            "text/html": [
              "<div>\n",
              "<style scoped>\n",
              "    .dataframe tbody tr th:only-of-type {\n",
              "        vertical-align: middle;\n",
              "    }\n",
              "\n",
              "    .dataframe tbody tr th {\n",
              "        vertical-align: top;\n",
              "    }\n",
              "\n",
              "    .dataframe thead th {\n",
              "        text-align: right;\n",
              "    }\n",
              "</style>\n",
              "<table border=\"1\" class=\"dataframe\">\n",
              "  <thead>\n",
              "    <tr style=\"text-align: right;\">\n",
              "      <th></th>\n",
              "      <th>fecha_dato</th>\n",
              "      <th>ncodpers</th>\n",
              "      <th>ind_empleado</th>\n",
              "      <th>sexo</th>\n",
              "      <th>age</th>\n",
              "      <th>ind_nuevo</th>\n",
              "      <th>antiguedad</th>\n",
              "      <th>indrel</th>\n",
              "      <th>ult_fec_cli_1t</th>\n",
              "      <th>indrel_1mes</th>\n",
              "      <th>tiprel_1mes</th>\n",
              "      <th>indresi</th>\n",
              "      <th>indext</th>\n",
              "      <th>conyuemp</th>\n",
              "      <th>canal_entrada</th>\n",
              "      <th>indfall</th>\n",
              "      <th>ind_actividad_cliente</th>\n",
              "      <th>renta</th>\n",
              "      <th>segmento</th>\n",
              "      <th>month</th>\n",
              "      <th>time</th>\n",
              "      <th>ind_ahor_fin_ult1</th>\n",
              "      <th>ind_aval_fin_ult1</th>\n",
              "      <th>ind_cco_fin_ult1</th>\n",
              "      <th>ind_cder_fin_ult1</th>\n",
              "      <th>ind_cno_fin_ult1</th>\n",
              "      <th>ind_ctju_fin_ult1</th>\n",
              "      <th>ind_ctma_fin_ult1</th>\n",
              "      <th>ind_ctop_fin_ult1</th>\n",
              "      <th>ind_ctpp_fin_ult1</th>\n",
              "      <th>ind_deco_fin_ult1</th>\n",
              "      <th>ind_deme_fin_ult1</th>\n",
              "      <th>ind_dela_fin_ult1</th>\n",
              "      <th>ind_ecue_fin_ult1</th>\n",
              "      <th>ind_fond_fin_ult1</th>\n",
              "      <th>ind_hip_fin_ult1</th>\n",
              "      <th>ind_plan_fin_ult1</th>\n",
              "      <th>ind_pres_fin_ult1</th>\n",
              "      <th>ind_reca_fin_ult1</th>\n",
              "      <th>ind_tjcr_fin_ult1</th>\n",
              "      <th>ind_valo_fin_ult1</th>\n",
              "      <th>ind_viv_fin_ult1</th>\n",
              "      <th>ind_nomina_ult1</th>\n",
              "      <th>ind_nom_pens_ult1</th>\n",
              "      <th>ind_recibo_ult1</th>\n",
              "      <th>pro_have_sum</th>\n",
              "    </tr>\n",
              "  </thead>\n",
              "  <tbody>\n",
              "    <tr>\n",
              "      <th>0</th>\n",
              "      <td>2015-02-28</td>\n",
              "      <td>544877</td>\n",
              "      <td>N</td>\n",
              "      <td>H</td>\n",
              "      <td>49.0</td>\n",
              "      <td>0.0</td>\n",
              "      <td>120.0</td>\n",
              "      <td>1.0</td>\n",
              "      <td>1</td>\n",
              "      <td>1.0</td>\n",
              "      <td>A</td>\n",
              "      <td>S</td>\n",
              "      <td>N</td>\n",
              "      <td>N</td>\n",
              "      <td>KAT</td>\n",
              "      <td>N</td>\n",
              "      <td>1.0</td>\n",
              "      <td>92120.46</td>\n",
              "      <td>01 - TOP</td>\n",
              "      <td>2</td>\n",
              "      <td>2</td>\n",
              "      <td>0</td>\n",
              "      <td>0</td>\n",
              "      <td>0</td>\n",
              "      <td>0</td>\n",
              "      <td>0</td>\n",
              "      <td>0</td>\n",
              "      <td>0</td>\n",
              "      <td>0</td>\n",
              "      <td>0</td>\n",
              "      <td>0</td>\n",
              "      <td>0</td>\n",
              "      <td>0</td>\n",
              "      <td>0</td>\n",
              "      <td>0</td>\n",
              "      <td>0</td>\n",
              "      <td>0</td>\n",
              "      <td>0</td>\n",
              "      <td>0</td>\n",
              "      <td>0</td>\n",
              "      <td>0</td>\n",
              "      <td>0</td>\n",
              "      <td>0</td>\n",
              "      <td>0</td>\n",
              "      <td>0</td>\n",
              "      <td>6</td>\n",
              "    </tr>\n",
              "    <tr>\n",
              "      <th>1</th>\n",
              "      <td>2015-02-28</td>\n",
              "      <td>542935</td>\n",
              "      <td>N</td>\n",
              "      <td>H</td>\n",
              "      <td>42.0</td>\n",
              "      <td>0.0</td>\n",
              "      <td>38.0</td>\n",
              "      <td>1.0</td>\n",
              "      <td>1</td>\n",
              "      <td>1.0</td>\n",
              "      <td>A</td>\n",
              "      <td>S</td>\n",
              "      <td>N</td>\n",
              "      <td>N</td>\n",
              "      <td>X</td>\n",
              "      <td>N</td>\n",
              "      <td>1.0</td>\n",
              "      <td>97627.32</td>\n",
              "      <td>02 - PARTICULARES</td>\n",
              "      <td>2</td>\n",
              "      <td>2</td>\n",
              "      <td>0</td>\n",
              "      <td>0</td>\n",
              "      <td>0</td>\n",
              "      <td>0</td>\n",
              "      <td>0</td>\n",
              "      <td>0</td>\n",
              "      <td>0</td>\n",
              "      <td>0</td>\n",
              "      <td>0</td>\n",
              "      <td>0</td>\n",
              "      <td>0</td>\n",
              "      <td>0</td>\n",
              "      <td>0</td>\n",
              "      <td>0</td>\n",
              "      <td>0</td>\n",
              "      <td>0</td>\n",
              "      <td>0</td>\n",
              "      <td>0</td>\n",
              "      <td>0</td>\n",
              "      <td>0</td>\n",
              "      <td>0</td>\n",
              "      <td>0</td>\n",
              "      <td>0</td>\n",
              "      <td>0</td>\n",
              "      <td>2</td>\n",
              "    </tr>\n",
              "    <tr>\n",
              "      <th>2</th>\n",
              "      <td>2015-02-28</td>\n",
              "      <td>544451</td>\n",
              "      <td>N</td>\n",
              "      <td>H</td>\n",
              "      <td>38.0</td>\n",
              "      <td>0.0</td>\n",
              "      <td>51.0</td>\n",
              "      <td>1.0</td>\n",
              "      <td>1</td>\n",
              "      <td>1.0</td>\n",
              "      <td>A</td>\n",
              "      <td>S</td>\n",
              "      <td>N</td>\n",
              "      <td>N</td>\n",
              "      <td>KFC</td>\n",
              "      <td>N</td>\n",
              "      <td>1.0</td>\n",
              "      <td>161127.63</td>\n",
              "      <td>02 - PARTICULARES</td>\n",
              "      <td>2</td>\n",
              "      <td>2</td>\n",
              "      <td>0</td>\n",
              "      <td>0</td>\n",
              "      <td>0</td>\n",
              "      <td>0</td>\n",
              "      <td>0</td>\n",
              "      <td>0</td>\n",
              "      <td>0</td>\n",
              "      <td>0</td>\n",
              "      <td>0</td>\n",
              "      <td>0</td>\n",
              "      <td>0</td>\n",
              "      <td>0</td>\n",
              "      <td>0</td>\n",
              "      <td>0</td>\n",
              "      <td>0</td>\n",
              "      <td>0</td>\n",
              "      <td>0</td>\n",
              "      <td>0</td>\n",
              "      <td>0</td>\n",
              "      <td>0</td>\n",
              "      <td>0</td>\n",
              "      <td>0</td>\n",
              "      <td>0</td>\n",
              "      <td>0</td>\n",
              "      <td>2</td>\n",
              "    </tr>\n",
              "    <tr>\n",
              "      <th>3</th>\n",
              "      <td>2015-02-28</td>\n",
              "      <td>548373</td>\n",
              "      <td>N</td>\n",
              "      <td>H</td>\n",
              "      <td>59.0</td>\n",
              "      <td>0.0</td>\n",
              "      <td>119.0</td>\n",
              "      <td>1.0</td>\n",
              "      <td>1</td>\n",
              "      <td>1.0</td>\n",
              "      <td>A</td>\n",
              "      <td>S</td>\n",
              "      <td>N</td>\n",
              "      <td>N</td>\n",
              "      <td>KFC</td>\n",
              "      <td>N</td>\n",
              "      <td>1.0</td>\n",
              "      <td>293076.09</td>\n",
              "      <td>02 - PARTICULARES</td>\n",
              "      <td>2</td>\n",
              "      <td>2</td>\n",
              "      <td>0</td>\n",
              "      <td>0</td>\n",
              "      <td>0</td>\n",
              "      <td>0</td>\n",
              "      <td>0</td>\n",
              "      <td>0</td>\n",
              "      <td>0</td>\n",
              "      <td>0</td>\n",
              "      <td>0</td>\n",
              "      <td>0</td>\n",
              "      <td>0</td>\n",
              "      <td>0</td>\n",
              "      <td>0</td>\n",
              "      <td>0</td>\n",
              "      <td>0</td>\n",
              "      <td>0</td>\n",
              "      <td>0</td>\n",
              "      <td>0</td>\n",
              "      <td>0</td>\n",
              "      <td>0</td>\n",
              "      <td>0</td>\n",
              "      <td>0</td>\n",
              "      <td>0</td>\n",
              "      <td>0</td>\n",
              "      <td>1</td>\n",
              "    </tr>\n",
              "    <tr>\n",
              "      <th>4</th>\n",
              "      <td>2015-02-28</td>\n",
              "      <td>539537</td>\n",
              "      <td>N</td>\n",
              "      <td>H</td>\n",
              "      <td>49.0</td>\n",
              "      <td>0.0</td>\n",
              "      <td>12.0</td>\n",
              "      <td>1.0</td>\n",
              "      <td>1</td>\n",
              "      <td>1.0</td>\n",
              "      <td>A</td>\n",
              "      <td>S</td>\n",
              "      <td>N</td>\n",
              "      <td>N</td>\n",
              "      <td>X</td>\n",
              "      <td>N</td>\n",
              "      <td>1.0</td>\n",
              "      <td>140949.06</td>\n",
              "      <td>01 - TOP</td>\n",
              "      <td>2</td>\n",
              "      <td>2</td>\n",
              "      <td>0</td>\n",
              "      <td>0</td>\n",
              "      <td>0</td>\n",
              "      <td>0</td>\n",
              "      <td>0</td>\n",
              "      <td>0</td>\n",
              "      <td>0</td>\n",
              "      <td>0</td>\n",
              "      <td>0</td>\n",
              "      <td>0</td>\n",
              "      <td>0</td>\n",
              "      <td>1</td>\n",
              "      <td>0</td>\n",
              "      <td>0</td>\n",
              "      <td>0</td>\n",
              "      <td>0</td>\n",
              "      <td>0</td>\n",
              "      <td>0</td>\n",
              "      <td>0</td>\n",
              "      <td>0</td>\n",
              "      <td>0</td>\n",
              "      <td>0</td>\n",
              "      <td>0</td>\n",
              "      <td>0</td>\n",
              "      <td>1</td>\n",
              "    </tr>\n",
              "  </tbody>\n",
              "</table>\n",
              "</div>"
            ],
            "text/plain": [
              "   fecha_dato  ncodpers  ... ind_recibo_ult1 pro_have_sum\n",
              "0  2015-02-28    544877  ...               0            6\n",
              "1  2015-02-28    542935  ...               0            2\n",
              "2  2015-02-28    544451  ...               0            2\n",
              "3  2015-02-28    548373  ...               0            1\n",
              "4  2015-02-28    539537  ...               0            1\n",
              "\n",
              "[5 rows x 46 columns]"
            ]
          },
          "metadata": {
            "tags": []
          },
          "execution_count": 75
        }
      ]
    },
    {
      "cell_type": "markdown",
      "metadata": {
        "id": "ajUz9ITjWGMM",
        "colab_type": "text"
      },
      "source": [
        "Split out the dataset for training. Using \"time\">4 is becasuse I would like to use lag_3 of products in the model and also to keep the dataset of May."
      ]
    },
    {
      "cell_type": "code",
      "metadata": {
        "id": "2OgdO7KTwtP9",
        "colab_type": "code",
        "outputId": "f028a883-d93b-4413-bf75-393b88233fa3",
        "colab": {
          "base_uri": "https://localhost:8080/",
          "height": 34
        }
      },
      "source": [
        "df_tr=df_1[df_1[\"time\"]>4]\n",
        "df_tr.shape"
      ],
      "execution_count": 76,
      "outputs": [
        {
          "output_type": "execute_result",
          "data": {
            "text/plain": [
              "(23386, 46)"
            ]
          },
          "metadata": {
            "tags": []
          },
          "execution_count": 76
        }
      ]
    },
    {
      "cell_type": "markdown",
      "metadata": {
        "id": "2Qb71nqOXOgG",
        "colab_type": "text"
      },
      "source": [
        "Generate the total products bought by all the clients last month."
      ]
    },
    {
      "cell_type": "code",
      "metadata": {
        "id": "yyPdPULm03gM",
        "colab_type": "code",
        "outputId": "b225e971-e379-4a8e-d10c-0d8caf88f045",
        "colab": {
          "base_uri": "https://localhost:8080/",
          "height": 326
        }
      },
      "source": [
        "df_1[target_cols_all]=df_1[target_cols_all].astype(int)\n",
        "df_g=df_1.groupby('time').sum()[target_cols_all]\n",
        "df_g.columns=[\"last\"+i for i in target_cols_all]\n",
        "df_g=df_g[2:15]\n",
        "df_g.reset_index(inplace=True)\n",
        "df_g[\"time\"]=df_g[\"time\"]+1\n",
        "df_com=df_tr.merge(df_g, how=\"left\", left_on='time', right_on='time')\n",
        "print(df_com.shape)\n",
        "df_com.head()"
      ],
      "execution_count": 77,
      "outputs": [
        {
          "output_type": "stream",
          "text": [
            "(23386, 70)\n"
          ],
          "name": "stdout"
        },
        {
          "output_type": "execute_result",
          "data": {
            "text/html": [
              "<div>\n",
              "<style scoped>\n",
              "    .dataframe tbody tr th:only-of-type {\n",
              "        vertical-align: middle;\n",
              "    }\n",
              "\n",
              "    .dataframe tbody tr th {\n",
              "        vertical-align: top;\n",
              "    }\n",
              "\n",
              "    .dataframe thead th {\n",
              "        text-align: right;\n",
              "    }\n",
              "</style>\n",
              "<table border=\"1\" class=\"dataframe\">\n",
              "  <thead>\n",
              "    <tr style=\"text-align: right;\">\n",
              "      <th></th>\n",
              "      <th>fecha_dato</th>\n",
              "      <th>ncodpers</th>\n",
              "      <th>ind_empleado</th>\n",
              "      <th>sexo</th>\n",
              "      <th>age</th>\n",
              "      <th>ind_nuevo</th>\n",
              "      <th>antiguedad</th>\n",
              "      <th>indrel</th>\n",
              "      <th>ult_fec_cli_1t</th>\n",
              "      <th>indrel_1mes</th>\n",
              "      <th>tiprel_1mes</th>\n",
              "      <th>indresi</th>\n",
              "      <th>indext</th>\n",
              "      <th>conyuemp</th>\n",
              "      <th>canal_entrada</th>\n",
              "      <th>indfall</th>\n",
              "      <th>ind_actividad_cliente</th>\n",
              "      <th>renta</th>\n",
              "      <th>segmento</th>\n",
              "      <th>month</th>\n",
              "      <th>time</th>\n",
              "      <th>ind_ahor_fin_ult1</th>\n",
              "      <th>ind_aval_fin_ult1</th>\n",
              "      <th>ind_cco_fin_ult1</th>\n",
              "      <th>ind_cder_fin_ult1</th>\n",
              "      <th>ind_cno_fin_ult1</th>\n",
              "      <th>ind_ctju_fin_ult1</th>\n",
              "      <th>ind_ctma_fin_ult1</th>\n",
              "      <th>ind_ctop_fin_ult1</th>\n",
              "      <th>ind_ctpp_fin_ult1</th>\n",
              "      <th>ind_deco_fin_ult1</th>\n",
              "      <th>ind_deme_fin_ult1</th>\n",
              "      <th>ind_dela_fin_ult1</th>\n",
              "      <th>ind_ecue_fin_ult1</th>\n",
              "      <th>ind_fond_fin_ult1</th>\n",
              "      <th>ind_hip_fin_ult1</th>\n",
              "      <th>ind_plan_fin_ult1</th>\n",
              "      <th>ind_pres_fin_ult1</th>\n",
              "      <th>ind_reca_fin_ult1</th>\n",
              "      <th>ind_tjcr_fin_ult1</th>\n",
              "      <th>ind_valo_fin_ult1</th>\n",
              "      <th>ind_viv_fin_ult1</th>\n",
              "      <th>ind_nomina_ult1</th>\n",
              "      <th>ind_nom_pens_ult1</th>\n",
              "      <th>ind_recibo_ult1</th>\n",
              "      <th>pro_have_sum</th>\n",
              "      <th>lastind_ahor_fin_ult1</th>\n",
              "      <th>lastind_aval_fin_ult1</th>\n",
              "      <th>lastind_cco_fin_ult1</th>\n",
              "      <th>lastind_cder_fin_ult1</th>\n",
              "      <th>lastind_cno_fin_ult1</th>\n",
              "      <th>lastind_ctju_fin_ult1</th>\n",
              "      <th>lastind_ctma_fin_ult1</th>\n",
              "      <th>lastind_ctop_fin_ult1</th>\n",
              "      <th>lastind_ctpp_fin_ult1</th>\n",
              "      <th>lastind_deco_fin_ult1</th>\n",
              "      <th>lastind_deme_fin_ult1</th>\n",
              "      <th>lastind_dela_fin_ult1</th>\n",
              "      <th>lastind_ecue_fin_ult1</th>\n",
              "      <th>lastind_fond_fin_ult1</th>\n",
              "      <th>lastind_hip_fin_ult1</th>\n",
              "      <th>lastind_plan_fin_ult1</th>\n",
              "      <th>lastind_pres_fin_ult1</th>\n",
              "      <th>lastind_reca_fin_ult1</th>\n",
              "      <th>lastind_tjcr_fin_ult1</th>\n",
              "      <th>lastind_valo_fin_ult1</th>\n",
              "      <th>lastind_viv_fin_ult1</th>\n",
              "      <th>lastind_nomina_ult1</th>\n",
              "      <th>lastind_nom_pens_ult1</th>\n",
              "      <th>lastind_recibo_ult1</th>\n",
              "    </tr>\n",
              "  </thead>\n",
              "  <tbody>\n",
              "    <tr>\n",
              "      <th>0</th>\n",
              "      <td>2015-05-28</td>\n",
              "      <td>1061302</td>\n",
              "      <td>N</td>\n",
              "      <td>H</td>\n",
              "      <td>53.0</td>\n",
              "      <td>0.0</td>\n",
              "      <td>34.0</td>\n",
              "      <td>1.0</td>\n",
              "      <td>1</td>\n",
              "      <td>1.0</td>\n",
              "      <td>A</td>\n",
              "      <td>S</td>\n",
              "      <td>N</td>\n",
              "      <td>N</td>\n",
              "      <td>KHE</td>\n",
              "      <td>N</td>\n",
              "      <td>1.0</td>\n",
              "      <td>45696.75</td>\n",
              "      <td>02 - PARTICULARES</td>\n",
              "      <td>5</td>\n",
              "      <td>5</td>\n",
              "      <td>0</td>\n",
              "      <td>0</td>\n",
              "      <td>0</td>\n",
              "      <td>0</td>\n",
              "      <td>0</td>\n",
              "      <td>0</td>\n",
              "      <td>0</td>\n",
              "      <td>0</td>\n",
              "      <td>0</td>\n",
              "      <td>0</td>\n",
              "      <td>0</td>\n",
              "      <td>0</td>\n",
              "      <td>0</td>\n",
              "      <td>0</td>\n",
              "      <td>0</td>\n",
              "      <td>0</td>\n",
              "      <td>0</td>\n",
              "      <td>0</td>\n",
              "      <td>0</td>\n",
              "      <td>0</td>\n",
              "      <td>0</td>\n",
              "      <td>0</td>\n",
              "      <td>0</td>\n",
              "      <td>0</td>\n",
              "      <td>1</td>\n",
              "      <td>0</td>\n",
              "      <td>0</td>\n",
              "      <td>7</td>\n",
              "      <td>0</td>\n",
              "      <td>9</td>\n",
              "      <td>0</td>\n",
              "      <td>0</td>\n",
              "      <td>0</td>\n",
              "      <td>0</td>\n",
              "      <td>0</td>\n",
              "      <td>0</td>\n",
              "      <td>4</td>\n",
              "      <td>2</td>\n",
              "      <td>0</td>\n",
              "      <td>0</td>\n",
              "      <td>0</td>\n",
              "      <td>0</td>\n",
              "      <td>1</td>\n",
              "      <td>6</td>\n",
              "      <td>1</td>\n",
              "      <td>0</td>\n",
              "      <td>6</td>\n",
              "      <td>13</td>\n",
              "      <td>19</td>\n",
              "    </tr>\n",
              "    <tr>\n",
              "      <th>1</th>\n",
              "      <td>2015-05-28</td>\n",
              "      <td>1061425</td>\n",
              "      <td>N</td>\n",
              "      <td>V</td>\n",
              "      <td>24.0</td>\n",
              "      <td>0.0</td>\n",
              "      <td>34.0</td>\n",
              "      <td>1.0</td>\n",
              "      <td>1</td>\n",
              "      <td>1.0</td>\n",
              "      <td>I</td>\n",
              "      <td>S</td>\n",
              "      <td>N</td>\n",
              "      <td>N</td>\n",
              "      <td>KHE</td>\n",
              "      <td>N</td>\n",
              "      <td>0.0</td>\n",
              "      <td>155655.03</td>\n",
              "      <td>03 - UNIVERSITARIO</td>\n",
              "      <td>5</td>\n",
              "      <td>5</td>\n",
              "      <td>0</td>\n",
              "      <td>0</td>\n",
              "      <td>0</td>\n",
              "      <td>0</td>\n",
              "      <td>0</td>\n",
              "      <td>0</td>\n",
              "      <td>0</td>\n",
              "      <td>0</td>\n",
              "      <td>0</td>\n",
              "      <td>0</td>\n",
              "      <td>0</td>\n",
              "      <td>0</td>\n",
              "      <td>0</td>\n",
              "      <td>0</td>\n",
              "      <td>0</td>\n",
              "      <td>0</td>\n",
              "      <td>0</td>\n",
              "      <td>0</td>\n",
              "      <td>0</td>\n",
              "      <td>0</td>\n",
              "      <td>0</td>\n",
              "      <td>0</td>\n",
              "      <td>0</td>\n",
              "      <td>0</td>\n",
              "      <td>1</td>\n",
              "      <td>0</td>\n",
              "      <td>0</td>\n",
              "      <td>7</td>\n",
              "      <td>0</td>\n",
              "      <td>9</td>\n",
              "      <td>0</td>\n",
              "      <td>0</td>\n",
              "      <td>0</td>\n",
              "      <td>0</td>\n",
              "      <td>0</td>\n",
              "      <td>0</td>\n",
              "      <td>4</td>\n",
              "      <td>2</td>\n",
              "      <td>0</td>\n",
              "      <td>0</td>\n",
              "      <td>0</td>\n",
              "      <td>0</td>\n",
              "      <td>1</td>\n",
              "      <td>6</td>\n",
              "      <td>1</td>\n",
              "      <td>0</td>\n",
              "      <td>6</td>\n",
              "      <td>13</td>\n",
              "      <td>19</td>\n",
              "    </tr>\n",
              "    <tr>\n",
              "      <th>2</th>\n",
              "      <td>2015-05-28</td>\n",
              "      <td>1061011</td>\n",
              "      <td>N</td>\n",
              "      <td>V</td>\n",
              "      <td>23.0</td>\n",
              "      <td>0.0</td>\n",
              "      <td>34.0</td>\n",
              "      <td>1.0</td>\n",
              "      <td>1</td>\n",
              "      <td>1.0</td>\n",
              "      <td>I</td>\n",
              "      <td>S</td>\n",
              "      <td>N</td>\n",
              "      <td>N</td>\n",
              "      <td>KHE</td>\n",
              "      <td>N</td>\n",
              "      <td>0.0</td>\n",
              "      <td>103488.03</td>\n",
              "      <td>03 - UNIVERSITARIO</td>\n",
              "      <td>5</td>\n",
              "      <td>5</td>\n",
              "      <td>0</td>\n",
              "      <td>0</td>\n",
              "      <td>0</td>\n",
              "      <td>0</td>\n",
              "      <td>0</td>\n",
              "      <td>0</td>\n",
              "      <td>0</td>\n",
              "      <td>0</td>\n",
              "      <td>0</td>\n",
              "      <td>0</td>\n",
              "      <td>0</td>\n",
              "      <td>0</td>\n",
              "      <td>0</td>\n",
              "      <td>0</td>\n",
              "      <td>0</td>\n",
              "      <td>0</td>\n",
              "      <td>0</td>\n",
              "      <td>0</td>\n",
              "      <td>0</td>\n",
              "      <td>0</td>\n",
              "      <td>0</td>\n",
              "      <td>0</td>\n",
              "      <td>0</td>\n",
              "      <td>0</td>\n",
              "      <td>1</td>\n",
              "      <td>0</td>\n",
              "      <td>0</td>\n",
              "      <td>7</td>\n",
              "      <td>0</td>\n",
              "      <td>9</td>\n",
              "      <td>0</td>\n",
              "      <td>0</td>\n",
              "      <td>0</td>\n",
              "      <td>0</td>\n",
              "      <td>0</td>\n",
              "      <td>0</td>\n",
              "      <td>4</td>\n",
              "      <td>2</td>\n",
              "      <td>0</td>\n",
              "      <td>0</td>\n",
              "      <td>0</td>\n",
              "      <td>0</td>\n",
              "      <td>1</td>\n",
              "      <td>6</td>\n",
              "      <td>1</td>\n",
              "      <td>0</td>\n",
              "      <td>6</td>\n",
              "      <td>13</td>\n",
              "      <td>19</td>\n",
              "    </tr>\n",
              "    <tr>\n",
              "      <th>3</th>\n",
              "      <td>2015-05-28</td>\n",
              "      <td>1062017</td>\n",
              "      <td>N</td>\n",
              "      <td>V</td>\n",
              "      <td>27.0</td>\n",
              "      <td>0.0</td>\n",
              "      <td>34.0</td>\n",
              "      <td>1.0</td>\n",
              "      <td>1</td>\n",
              "      <td>1.0</td>\n",
              "      <td>I</td>\n",
              "      <td>S</td>\n",
              "      <td>N</td>\n",
              "      <td>N</td>\n",
              "      <td>KHE</td>\n",
              "      <td>N</td>\n",
              "      <td>0.0</td>\n",
              "      <td>61760.61</td>\n",
              "      <td>03 - UNIVERSITARIO</td>\n",
              "      <td>5</td>\n",
              "      <td>5</td>\n",
              "      <td>0</td>\n",
              "      <td>0</td>\n",
              "      <td>0</td>\n",
              "      <td>0</td>\n",
              "      <td>0</td>\n",
              "      <td>0</td>\n",
              "      <td>0</td>\n",
              "      <td>0</td>\n",
              "      <td>0</td>\n",
              "      <td>0</td>\n",
              "      <td>0</td>\n",
              "      <td>0</td>\n",
              "      <td>0</td>\n",
              "      <td>0</td>\n",
              "      <td>0</td>\n",
              "      <td>0</td>\n",
              "      <td>0</td>\n",
              "      <td>0</td>\n",
              "      <td>0</td>\n",
              "      <td>0</td>\n",
              "      <td>0</td>\n",
              "      <td>0</td>\n",
              "      <td>0</td>\n",
              "      <td>0</td>\n",
              "      <td>1</td>\n",
              "      <td>0</td>\n",
              "      <td>0</td>\n",
              "      <td>7</td>\n",
              "      <td>0</td>\n",
              "      <td>9</td>\n",
              "      <td>0</td>\n",
              "      <td>0</td>\n",
              "      <td>0</td>\n",
              "      <td>0</td>\n",
              "      <td>0</td>\n",
              "      <td>0</td>\n",
              "      <td>4</td>\n",
              "      <td>2</td>\n",
              "      <td>0</td>\n",
              "      <td>0</td>\n",
              "      <td>0</td>\n",
              "      <td>0</td>\n",
              "      <td>1</td>\n",
              "      <td>6</td>\n",
              "      <td>1</td>\n",
              "      <td>0</td>\n",
              "      <td>6</td>\n",
              "      <td>13</td>\n",
              "      <td>19</td>\n",
              "    </tr>\n",
              "    <tr>\n",
              "      <th>4</th>\n",
              "      <td>2015-05-28</td>\n",
              "      <td>1059398</td>\n",
              "      <td>N</td>\n",
              "      <td>H</td>\n",
              "      <td>24.0</td>\n",
              "      <td>0.0</td>\n",
              "      <td>18.0</td>\n",
              "      <td>1.0</td>\n",
              "      <td>1</td>\n",
              "      <td>1.0</td>\n",
              "      <td>I</td>\n",
              "      <td>S</td>\n",
              "      <td>N</td>\n",
              "      <td>N</td>\n",
              "      <td>KAT</td>\n",
              "      <td>N</td>\n",
              "      <td>0.0</td>\n",
              "      <td>80706.57</td>\n",
              "      <td>03 - UNIVERSITARIO</td>\n",
              "      <td>5</td>\n",
              "      <td>5</td>\n",
              "      <td>0</td>\n",
              "      <td>0</td>\n",
              "      <td>0</td>\n",
              "      <td>0</td>\n",
              "      <td>0</td>\n",
              "      <td>0</td>\n",
              "      <td>0</td>\n",
              "      <td>0</td>\n",
              "      <td>0</td>\n",
              "      <td>0</td>\n",
              "      <td>0</td>\n",
              "      <td>0</td>\n",
              "      <td>0</td>\n",
              "      <td>0</td>\n",
              "      <td>0</td>\n",
              "      <td>0</td>\n",
              "      <td>0</td>\n",
              "      <td>0</td>\n",
              "      <td>0</td>\n",
              "      <td>0</td>\n",
              "      <td>0</td>\n",
              "      <td>0</td>\n",
              "      <td>0</td>\n",
              "      <td>0</td>\n",
              "      <td>1</td>\n",
              "      <td>0</td>\n",
              "      <td>0</td>\n",
              "      <td>7</td>\n",
              "      <td>0</td>\n",
              "      <td>9</td>\n",
              "      <td>0</td>\n",
              "      <td>0</td>\n",
              "      <td>0</td>\n",
              "      <td>0</td>\n",
              "      <td>0</td>\n",
              "      <td>0</td>\n",
              "      <td>4</td>\n",
              "      <td>2</td>\n",
              "      <td>0</td>\n",
              "      <td>0</td>\n",
              "      <td>0</td>\n",
              "      <td>0</td>\n",
              "      <td>1</td>\n",
              "      <td>6</td>\n",
              "      <td>1</td>\n",
              "      <td>0</td>\n",
              "      <td>6</td>\n",
              "      <td>13</td>\n",
              "      <td>19</td>\n",
              "    </tr>\n",
              "  </tbody>\n",
              "</table>\n",
              "</div>"
            ],
            "text/plain": [
              "   fecha_dato  ncodpers  ... lastind_nom_pens_ult1 lastind_recibo_ult1\n",
              "0  2015-05-28   1061302  ...                    13                  19\n",
              "1  2015-05-28   1061425  ...                    13                  19\n",
              "2  2015-05-28   1061011  ...                    13                  19\n",
              "3  2015-05-28   1062017  ...                    13                  19\n",
              "4  2015-05-28   1059398  ...                    13                  19\n",
              "\n",
              "[5 rows x 70 columns]"
            ]
          },
          "metadata": {
            "tags": []
          },
          "execution_count": 77
        }
      ]
    },
    {
      "cell_type": "markdown",
      "metadata": {
        "id": "1t1JEThqXZ3W",
        "colab_type": "text"
      },
      "source": [
        "Transform the original categorical features into one hot encoding."
      ]
    },
    {
      "cell_type": "code",
      "metadata": {
        "id": "pdOl3oWpPt82",
        "colab_type": "code",
        "outputId": "658b410d-e9e2-46ea-c340-a56b5dd3cf26",
        "colab": {
          "base_uri": "https://localhost:8080/",
          "height": 223
        }
      },
      "source": [
        "from sklearn.preprocessing import LabelEncoder, OneHotEncoder\n",
        "\n",
        "one_hot_list=[\"ind_empleado\", \"sexo\", \"indrel\", \"indrel_1mes\",\"tiprel_1mes\",\"indresi\",\"indext\",\"conyuemp\",\"canal_entrada\",\"indfall\",\"segmento\"]\n",
        "df_tr[one_hot_list]=df_tr[one_hot_list].astype(str)\n",
        "lab_encoder = LabelEncoder()\n",
        "for i in one_hot_list:\n",
        "  df_tr[i]=lab_encoder.fit_transform(df_tr[i])\n",
        "\n",
        "one_hot = OneHotEncoder(categories=\"auto\",drop=\"first\")\n",
        "cat_to_onehot = pd.DataFrame(one_hot.fit_transform(df_tr[one_hot_list]).toarray())\n",
        "cat_to_onehot.columns=one_hot.get_feature_names()\n",
        "\n",
        "df_com.drop(one_hot_list,axis=1,inplace=True)\n",
        "df_com=pd.concat([df_com,cat_to_onehot],axis=1)\n",
        "df_com.head()"
      ],
      "execution_count": 78,
      "outputs": [
        {
          "output_type": "execute_result",
          "data": {
            "text/html": [
              "<div>\n",
              "<style scoped>\n",
              "    .dataframe tbody tr th:only-of-type {\n",
              "        vertical-align: middle;\n",
              "    }\n",
              "\n",
              "    .dataframe tbody tr th {\n",
              "        vertical-align: top;\n",
              "    }\n",
              "\n",
              "    .dataframe thead th {\n",
              "        text-align: right;\n",
              "    }\n",
              "</style>\n",
              "<table border=\"1\" class=\"dataframe\">\n",
              "  <thead>\n",
              "    <tr style=\"text-align: right;\">\n",
              "      <th></th>\n",
              "      <th>fecha_dato</th>\n",
              "      <th>ncodpers</th>\n",
              "      <th>age</th>\n",
              "      <th>ind_nuevo</th>\n",
              "      <th>antiguedad</th>\n",
              "      <th>ult_fec_cli_1t</th>\n",
              "      <th>ind_actividad_cliente</th>\n",
              "      <th>renta</th>\n",
              "      <th>month</th>\n",
              "      <th>time</th>\n",
              "      <th>ind_ahor_fin_ult1</th>\n",
              "      <th>ind_aval_fin_ult1</th>\n",
              "      <th>ind_cco_fin_ult1</th>\n",
              "      <th>ind_cder_fin_ult1</th>\n",
              "      <th>ind_cno_fin_ult1</th>\n",
              "      <th>ind_ctju_fin_ult1</th>\n",
              "      <th>ind_ctma_fin_ult1</th>\n",
              "      <th>ind_ctop_fin_ult1</th>\n",
              "      <th>ind_ctpp_fin_ult1</th>\n",
              "      <th>ind_deco_fin_ult1</th>\n",
              "      <th>ind_deme_fin_ult1</th>\n",
              "      <th>ind_dela_fin_ult1</th>\n",
              "      <th>ind_ecue_fin_ult1</th>\n",
              "      <th>ind_fond_fin_ult1</th>\n",
              "      <th>ind_hip_fin_ult1</th>\n",
              "      <th>ind_plan_fin_ult1</th>\n",
              "      <th>ind_pres_fin_ult1</th>\n",
              "      <th>ind_reca_fin_ult1</th>\n",
              "      <th>ind_tjcr_fin_ult1</th>\n",
              "      <th>ind_valo_fin_ult1</th>\n",
              "      <th>ind_viv_fin_ult1</th>\n",
              "      <th>ind_nomina_ult1</th>\n",
              "      <th>ind_nom_pens_ult1</th>\n",
              "      <th>ind_recibo_ult1</th>\n",
              "      <th>pro_have_sum</th>\n",
              "      <th>lastind_ahor_fin_ult1</th>\n",
              "      <th>lastind_aval_fin_ult1</th>\n",
              "      <th>lastind_cco_fin_ult1</th>\n",
              "      <th>lastind_cder_fin_ult1</th>\n",
              "      <th>lastind_cno_fin_ult1</th>\n",
              "      <th>lastind_ctju_fin_ult1</th>\n",
              "      <th>lastind_ctma_fin_ult1</th>\n",
              "      <th>lastind_ctop_fin_ult1</th>\n",
              "      <th>lastind_ctpp_fin_ult1</th>\n",
              "      <th>lastind_deco_fin_ult1</th>\n",
              "      <th>lastind_deme_fin_ult1</th>\n",
              "      <th>lastind_dela_fin_ult1</th>\n",
              "      <th>lastind_ecue_fin_ult1</th>\n",
              "      <th>lastind_fond_fin_ult1</th>\n",
              "      <th>lastind_hip_fin_ult1</th>\n",
              "      <th>lastind_plan_fin_ult1</th>\n",
              "      <th>lastind_pres_fin_ult1</th>\n",
              "      <th>lastind_reca_fin_ult1</th>\n",
              "      <th>lastind_tjcr_fin_ult1</th>\n",
              "      <th>lastind_valo_fin_ult1</th>\n",
              "      <th>lastind_viv_fin_ult1</th>\n",
              "      <th>lastind_nomina_ult1</th>\n",
              "      <th>lastind_nom_pens_ult1</th>\n",
              "      <th>lastind_recibo_ult1</th>\n",
              "      <th>x0_1</th>\n",
              "      <th>x1_1</th>\n",
              "      <th>x2_1</th>\n",
              "      <th>x3_1</th>\n",
              "      <th>x3_2</th>\n",
              "      <th>x3_3</th>\n",
              "      <th>x3_4</th>\n",
              "      <th>x4_1</th>\n",
              "      <th>x4_2</th>\n",
              "      <th>x4_3</th>\n",
              "      <th>x4_4</th>\n",
              "      <th>x5_1</th>\n",
              "      <th>x6_1</th>\n",
              "      <th>x8_1</th>\n",
              "      <th>x8_2</th>\n",
              "      <th>x8_3</th>\n",
              "      <th>x9_1</th>\n",
              "      <th>x10_1</th>\n",
              "      <th>x10_2</th>\n",
              "      <th>x10_3</th>\n",
              "    </tr>\n",
              "  </thead>\n",
              "  <tbody>\n",
              "    <tr>\n",
              "      <th>0</th>\n",
              "      <td>2015-05-28</td>\n",
              "      <td>1061302</td>\n",
              "      <td>53.0</td>\n",
              "      <td>0.0</td>\n",
              "      <td>34.0</td>\n",
              "      <td>1</td>\n",
              "      <td>1.0</td>\n",
              "      <td>45696.75</td>\n",
              "      <td>5</td>\n",
              "      <td>5</td>\n",
              "      <td>0</td>\n",
              "      <td>0</td>\n",
              "      <td>0</td>\n",
              "      <td>0</td>\n",
              "      <td>0</td>\n",
              "      <td>0</td>\n",
              "      <td>0</td>\n",
              "      <td>0</td>\n",
              "      <td>0</td>\n",
              "      <td>0</td>\n",
              "      <td>0</td>\n",
              "      <td>0</td>\n",
              "      <td>0</td>\n",
              "      <td>0</td>\n",
              "      <td>0</td>\n",
              "      <td>0</td>\n",
              "      <td>0</td>\n",
              "      <td>0</td>\n",
              "      <td>0</td>\n",
              "      <td>0</td>\n",
              "      <td>0</td>\n",
              "      <td>0</td>\n",
              "      <td>0</td>\n",
              "      <td>0</td>\n",
              "      <td>1</td>\n",
              "      <td>0</td>\n",
              "      <td>0</td>\n",
              "      <td>7</td>\n",
              "      <td>0</td>\n",
              "      <td>9</td>\n",
              "      <td>0</td>\n",
              "      <td>0</td>\n",
              "      <td>0</td>\n",
              "      <td>0</td>\n",
              "      <td>0</td>\n",
              "      <td>0</td>\n",
              "      <td>4</td>\n",
              "      <td>2</td>\n",
              "      <td>0</td>\n",
              "      <td>0</td>\n",
              "      <td>0</td>\n",
              "      <td>0</td>\n",
              "      <td>1</td>\n",
              "      <td>6</td>\n",
              "      <td>1</td>\n",
              "      <td>0</td>\n",
              "      <td>6</td>\n",
              "      <td>13</td>\n",
              "      <td>19</td>\n",
              "      <td>1.0</td>\n",
              "      <td>0.0</td>\n",
              "      <td>0.0</td>\n",
              "      <td>0.0</td>\n",
              "      <td>0.0</td>\n",
              "      <td>0.0</td>\n",
              "      <td>0.0</td>\n",
              "      <td>0.0</td>\n",
              "      <td>0.0</td>\n",
              "      <td>0.0</td>\n",
              "      <td>0.0</td>\n",
              "      <td>1.0</td>\n",
              "      <td>0.0</td>\n",
              "      <td>0.0</td>\n",
              "      <td>1.0</td>\n",
              "      <td>0.0</td>\n",
              "      <td>0.0</td>\n",
              "      <td>1.0</td>\n",
              "      <td>0.0</td>\n",
              "      <td>0.0</td>\n",
              "    </tr>\n",
              "    <tr>\n",
              "      <th>1</th>\n",
              "      <td>2015-05-28</td>\n",
              "      <td>1061425</td>\n",
              "      <td>24.0</td>\n",
              "      <td>0.0</td>\n",
              "      <td>34.0</td>\n",
              "      <td>1</td>\n",
              "      <td>0.0</td>\n",
              "      <td>155655.03</td>\n",
              "      <td>5</td>\n",
              "      <td>5</td>\n",
              "      <td>0</td>\n",
              "      <td>0</td>\n",
              "      <td>0</td>\n",
              "      <td>0</td>\n",
              "      <td>0</td>\n",
              "      <td>0</td>\n",
              "      <td>0</td>\n",
              "      <td>0</td>\n",
              "      <td>0</td>\n",
              "      <td>0</td>\n",
              "      <td>0</td>\n",
              "      <td>0</td>\n",
              "      <td>0</td>\n",
              "      <td>0</td>\n",
              "      <td>0</td>\n",
              "      <td>0</td>\n",
              "      <td>0</td>\n",
              "      <td>0</td>\n",
              "      <td>0</td>\n",
              "      <td>0</td>\n",
              "      <td>0</td>\n",
              "      <td>0</td>\n",
              "      <td>0</td>\n",
              "      <td>0</td>\n",
              "      <td>1</td>\n",
              "      <td>0</td>\n",
              "      <td>0</td>\n",
              "      <td>7</td>\n",
              "      <td>0</td>\n",
              "      <td>9</td>\n",
              "      <td>0</td>\n",
              "      <td>0</td>\n",
              "      <td>0</td>\n",
              "      <td>0</td>\n",
              "      <td>0</td>\n",
              "      <td>0</td>\n",
              "      <td>4</td>\n",
              "      <td>2</td>\n",
              "      <td>0</td>\n",
              "      <td>0</td>\n",
              "      <td>0</td>\n",
              "      <td>0</td>\n",
              "      <td>1</td>\n",
              "      <td>6</td>\n",
              "      <td>1</td>\n",
              "      <td>0</td>\n",
              "      <td>6</td>\n",
              "      <td>13</td>\n",
              "      <td>19</td>\n",
              "      <td>1.0</td>\n",
              "      <td>1.0</td>\n",
              "      <td>0.0</td>\n",
              "      <td>0.0</td>\n",
              "      <td>0.0</td>\n",
              "      <td>0.0</td>\n",
              "      <td>0.0</td>\n",
              "      <td>1.0</td>\n",
              "      <td>0.0</td>\n",
              "      <td>0.0</td>\n",
              "      <td>0.0</td>\n",
              "      <td>1.0</td>\n",
              "      <td>0.0</td>\n",
              "      <td>0.0</td>\n",
              "      <td>1.0</td>\n",
              "      <td>0.0</td>\n",
              "      <td>0.0</td>\n",
              "      <td>0.0</td>\n",
              "      <td>1.0</td>\n",
              "      <td>0.0</td>\n",
              "    </tr>\n",
              "    <tr>\n",
              "      <th>2</th>\n",
              "      <td>2015-05-28</td>\n",
              "      <td>1061011</td>\n",
              "      <td>23.0</td>\n",
              "      <td>0.0</td>\n",
              "      <td>34.0</td>\n",
              "      <td>1</td>\n",
              "      <td>0.0</td>\n",
              "      <td>103488.03</td>\n",
              "      <td>5</td>\n",
              "      <td>5</td>\n",
              "      <td>0</td>\n",
              "      <td>0</td>\n",
              "      <td>0</td>\n",
              "      <td>0</td>\n",
              "      <td>0</td>\n",
              "      <td>0</td>\n",
              "      <td>0</td>\n",
              "      <td>0</td>\n",
              "      <td>0</td>\n",
              "      <td>0</td>\n",
              "      <td>0</td>\n",
              "      <td>0</td>\n",
              "      <td>0</td>\n",
              "      <td>0</td>\n",
              "      <td>0</td>\n",
              "      <td>0</td>\n",
              "      <td>0</td>\n",
              "      <td>0</td>\n",
              "      <td>0</td>\n",
              "      <td>0</td>\n",
              "      <td>0</td>\n",
              "      <td>0</td>\n",
              "      <td>0</td>\n",
              "      <td>0</td>\n",
              "      <td>1</td>\n",
              "      <td>0</td>\n",
              "      <td>0</td>\n",
              "      <td>7</td>\n",
              "      <td>0</td>\n",
              "      <td>9</td>\n",
              "      <td>0</td>\n",
              "      <td>0</td>\n",
              "      <td>0</td>\n",
              "      <td>0</td>\n",
              "      <td>0</td>\n",
              "      <td>0</td>\n",
              "      <td>4</td>\n",
              "      <td>2</td>\n",
              "      <td>0</td>\n",
              "      <td>0</td>\n",
              "      <td>0</td>\n",
              "      <td>0</td>\n",
              "      <td>1</td>\n",
              "      <td>6</td>\n",
              "      <td>1</td>\n",
              "      <td>0</td>\n",
              "      <td>6</td>\n",
              "      <td>13</td>\n",
              "      <td>19</td>\n",
              "      <td>1.0</td>\n",
              "      <td>1.0</td>\n",
              "      <td>0.0</td>\n",
              "      <td>0.0</td>\n",
              "      <td>0.0</td>\n",
              "      <td>0.0</td>\n",
              "      <td>0.0</td>\n",
              "      <td>1.0</td>\n",
              "      <td>0.0</td>\n",
              "      <td>0.0</td>\n",
              "      <td>0.0</td>\n",
              "      <td>1.0</td>\n",
              "      <td>0.0</td>\n",
              "      <td>0.0</td>\n",
              "      <td>1.0</td>\n",
              "      <td>0.0</td>\n",
              "      <td>0.0</td>\n",
              "      <td>0.0</td>\n",
              "      <td>1.0</td>\n",
              "      <td>0.0</td>\n",
              "    </tr>\n",
              "    <tr>\n",
              "      <th>3</th>\n",
              "      <td>2015-05-28</td>\n",
              "      <td>1062017</td>\n",
              "      <td>27.0</td>\n",
              "      <td>0.0</td>\n",
              "      <td>34.0</td>\n",
              "      <td>1</td>\n",
              "      <td>0.0</td>\n",
              "      <td>61760.61</td>\n",
              "      <td>5</td>\n",
              "      <td>5</td>\n",
              "      <td>0</td>\n",
              "      <td>0</td>\n",
              "      <td>0</td>\n",
              "      <td>0</td>\n",
              "      <td>0</td>\n",
              "      <td>0</td>\n",
              "      <td>0</td>\n",
              "      <td>0</td>\n",
              "      <td>0</td>\n",
              "      <td>0</td>\n",
              "      <td>0</td>\n",
              "      <td>0</td>\n",
              "      <td>0</td>\n",
              "      <td>0</td>\n",
              "      <td>0</td>\n",
              "      <td>0</td>\n",
              "      <td>0</td>\n",
              "      <td>0</td>\n",
              "      <td>0</td>\n",
              "      <td>0</td>\n",
              "      <td>0</td>\n",
              "      <td>0</td>\n",
              "      <td>0</td>\n",
              "      <td>0</td>\n",
              "      <td>1</td>\n",
              "      <td>0</td>\n",
              "      <td>0</td>\n",
              "      <td>7</td>\n",
              "      <td>0</td>\n",
              "      <td>9</td>\n",
              "      <td>0</td>\n",
              "      <td>0</td>\n",
              "      <td>0</td>\n",
              "      <td>0</td>\n",
              "      <td>0</td>\n",
              "      <td>0</td>\n",
              "      <td>4</td>\n",
              "      <td>2</td>\n",
              "      <td>0</td>\n",
              "      <td>0</td>\n",
              "      <td>0</td>\n",
              "      <td>0</td>\n",
              "      <td>1</td>\n",
              "      <td>6</td>\n",
              "      <td>1</td>\n",
              "      <td>0</td>\n",
              "      <td>6</td>\n",
              "      <td>13</td>\n",
              "      <td>19</td>\n",
              "      <td>1.0</td>\n",
              "      <td>1.0</td>\n",
              "      <td>0.0</td>\n",
              "      <td>0.0</td>\n",
              "      <td>0.0</td>\n",
              "      <td>0.0</td>\n",
              "      <td>0.0</td>\n",
              "      <td>1.0</td>\n",
              "      <td>0.0</td>\n",
              "      <td>0.0</td>\n",
              "      <td>0.0</td>\n",
              "      <td>1.0</td>\n",
              "      <td>0.0</td>\n",
              "      <td>0.0</td>\n",
              "      <td>1.0</td>\n",
              "      <td>0.0</td>\n",
              "      <td>0.0</td>\n",
              "      <td>0.0</td>\n",
              "      <td>1.0</td>\n",
              "      <td>0.0</td>\n",
              "    </tr>\n",
              "    <tr>\n",
              "      <th>4</th>\n",
              "      <td>2015-05-28</td>\n",
              "      <td>1059398</td>\n",
              "      <td>24.0</td>\n",
              "      <td>0.0</td>\n",
              "      <td>18.0</td>\n",
              "      <td>1</td>\n",
              "      <td>0.0</td>\n",
              "      <td>80706.57</td>\n",
              "      <td>5</td>\n",
              "      <td>5</td>\n",
              "      <td>0</td>\n",
              "      <td>0</td>\n",
              "      <td>0</td>\n",
              "      <td>0</td>\n",
              "      <td>0</td>\n",
              "      <td>0</td>\n",
              "      <td>0</td>\n",
              "      <td>0</td>\n",
              "      <td>0</td>\n",
              "      <td>0</td>\n",
              "      <td>0</td>\n",
              "      <td>0</td>\n",
              "      <td>0</td>\n",
              "      <td>0</td>\n",
              "      <td>0</td>\n",
              "      <td>0</td>\n",
              "      <td>0</td>\n",
              "      <td>0</td>\n",
              "      <td>0</td>\n",
              "      <td>0</td>\n",
              "      <td>0</td>\n",
              "      <td>0</td>\n",
              "      <td>0</td>\n",
              "      <td>0</td>\n",
              "      <td>1</td>\n",
              "      <td>0</td>\n",
              "      <td>0</td>\n",
              "      <td>7</td>\n",
              "      <td>0</td>\n",
              "      <td>9</td>\n",
              "      <td>0</td>\n",
              "      <td>0</td>\n",
              "      <td>0</td>\n",
              "      <td>0</td>\n",
              "      <td>0</td>\n",
              "      <td>0</td>\n",
              "      <td>4</td>\n",
              "      <td>2</td>\n",
              "      <td>0</td>\n",
              "      <td>0</td>\n",
              "      <td>0</td>\n",
              "      <td>0</td>\n",
              "      <td>1</td>\n",
              "      <td>6</td>\n",
              "      <td>1</td>\n",
              "      <td>0</td>\n",
              "      <td>6</td>\n",
              "      <td>13</td>\n",
              "      <td>19</td>\n",
              "      <td>1.0</td>\n",
              "      <td>0.0</td>\n",
              "      <td>0.0</td>\n",
              "      <td>0.0</td>\n",
              "      <td>0.0</td>\n",
              "      <td>0.0</td>\n",
              "      <td>0.0</td>\n",
              "      <td>1.0</td>\n",
              "      <td>0.0</td>\n",
              "      <td>0.0</td>\n",
              "      <td>0.0</td>\n",
              "      <td>1.0</td>\n",
              "      <td>0.0</td>\n",
              "      <td>0.0</td>\n",
              "      <td>0.0</td>\n",
              "      <td>0.0</td>\n",
              "      <td>0.0</td>\n",
              "      <td>0.0</td>\n",
              "      <td>1.0</td>\n",
              "      <td>0.0</td>\n",
              "    </tr>\n",
              "  </tbody>\n",
              "</table>\n",
              "</div>"
            ],
            "text/plain": [
              "   fecha_dato  ncodpers   age  ind_nuevo  ...  x9_1 x10_1  x10_2  x10_3\n",
              "0  2015-05-28   1061302  53.0        0.0  ...   0.0   1.0    0.0    0.0\n",
              "1  2015-05-28   1061425  24.0        0.0  ...   0.0   0.0    1.0    0.0\n",
              "2  2015-05-28   1061011  23.0        0.0  ...   0.0   0.0    1.0    0.0\n",
              "3  2015-05-28   1062017  27.0        0.0  ...   0.0   0.0    1.0    0.0\n",
              "4  2015-05-28   1059398  24.0        0.0  ...   0.0   0.0    1.0    0.0\n",
              "\n",
              "[5 rows x 79 columns]"
            ]
          },
          "metadata": {
            "tags": []
          },
          "execution_count": 78
        }
      ]
    },
    {
      "cell_type": "markdown",
      "metadata": {
        "id": "Xo1qNBoFXlVU",
        "colab_type": "text"
      },
      "source": [
        "Generate the products bought by specific clients' lag1-3 respectively. "
      ]
    },
    {
      "cell_type": "code",
      "metadata": {
        "id": "YIB2G-CFGOqD",
        "colab_type": "code",
        "colab": {}
      },
      "source": [
        "np1=np.zeros(24)\n",
        "for k in range(5,18):\n",
        "  df_temp=df_1[df_1[\"time\"]==(k-1)]\n",
        "  df_ex=df_1[df_1[\"time\"]==k]\n",
        "  for i in range(len(df_ex[\"ncodpers\"])):\n",
        "    np2=np.zeros(24)\n",
        "    for j in range(len(df_temp[\"ncodpers\"])):\n",
        "      if(df_ex.iloc[i,1]==df_temp.iloc[j,1]):\n",
        "        np2=np.array(df_temp.iloc[j,19:43])\n",
        "        break\n",
        "    np1=np.row_stack((np1,np2))\n",
        "\n",
        "df_np=pd.DataFrame(np1)\n",
        "df_np.drop(0,axis=0,inplace=True)\n",
        "df_np.reset_index(drop=True,inplace=True)\n",
        "df_np.columns=[\"t-1_\"+str(i) for i in range(24)]"
      ],
      "execution_count": 0,
      "outputs": []
    },
    {
      "cell_type": "code",
      "metadata": {
        "id": "otrYChvJuPQe",
        "colab_type": "code",
        "colab": {}
      },
      "source": [
        "np1=np.zeros(24)\n",
        "for k in range(5,18):\n",
        "  df_temp=df_1[df_1[\"time\"]==(k-2)]\n",
        "  df_ex=df_1[df_1[\"time\"]==k]\n",
        "  for i in range(len(df_ex[\"ncodpers\"])):\n",
        "    np2=np.zeros(24)\n",
        "    for j in range(len(df_temp[\"ncodpers\"])):\n",
        "      if(df_ex.iloc[i,1]==df_temp.iloc[j,1]):\n",
        "        np2=np.array(df_temp.iloc[j,19:43])\n",
        "        break\n",
        "    np1=np.row_stack((np1,np2))\n",
        "\n",
        "df_np2=pd.DataFrame(np1)\n",
        "df_np2.drop(0,axis=0,inplace=True)\n",
        "df_np2.reset_index(drop=True,inplace=True)\n",
        "df_np2.columns=[\"t-2_\"+str(i) for i in range(24)]"
      ],
      "execution_count": 0,
      "outputs": []
    },
    {
      "cell_type": "code",
      "metadata": {
        "id": "7PgpRi50wioH",
        "colab_type": "code",
        "colab": {}
      },
      "source": [
        "np1=np.zeros(24)\n",
        "for k in range(5,18):\n",
        "  df_temp=df_1[df_1[\"time\"]==(k-3)]\n",
        "  df_ex=df_1[df_1[\"time\"]==k]\n",
        "  for i in range(len(df_ex[\"ncodpers\"])):\n",
        "    np2=np.zeros(24)\n",
        "    for j in range(len(df_temp[\"ncodpers\"])):\n",
        "      if(df_ex.iloc[i,1]==df_temp.iloc[j,1]):\n",
        "        np2=np.array(df_temp.iloc[j,19:43])\n",
        "        break\n",
        "    np1=np.row_stack((np1,np2))\n",
        "\n",
        "df_np3=pd.DataFrame(np1)\n",
        "df_np3.drop(0,axis=0,inplace=True)\n",
        "df_np3.reset_index(drop=True,inplace=True)\n",
        "df_np3.columns=[\"t-3_\"+str(i) for i in range(24)]"
      ],
      "execution_count": 0,
      "outputs": []
    },
    {
      "cell_type": "markdown",
      "metadata": {
        "id": "WuAl9-uxYB40",
        "colab_type": "text"
      },
      "source": [
        "Generate total products bought by the specific clients."
      ]
    },
    {
      "cell_type": "code",
      "metadata": {
        "id": "UVXxmgCPtdgc",
        "colab_type": "code",
        "outputId": "3ecb9bfb-1392-450b-a516-fff89bfa9684",
        "colab": {
          "base_uri": "https://localhost:8080/",
          "height": 286
        }
      },
      "source": [
        "col=[\"t-1_\"+str(i) for i in range(24)]\n",
        "df_com=pd.concat([df_com,df_np,df_np2,df_np3],axis=1)\n",
        "df_com[\"pro_newbuy_sum\"]=df_com[col].sum(1)\n",
        "df_com.drop([\"fecha_dato\",\"ncodpers\"],axis=1,inplace=True)\n",
        "df_com=df_com.astype(float)\n",
        "print(df_com.shape)\n",
        "df_com.head()"
      ],
      "execution_count": 82,
      "outputs": [
        {
          "output_type": "stream",
          "text": [
            "(23386, 150)\n"
          ],
          "name": "stdout"
        },
        {
          "output_type": "execute_result",
          "data": {
            "text/html": [
              "<div>\n",
              "<style scoped>\n",
              "    .dataframe tbody tr th:only-of-type {\n",
              "        vertical-align: middle;\n",
              "    }\n",
              "\n",
              "    .dataframe tbody tr th {\n",
              "        vertical-align: top;\n",
              "    }\n",
              "\n",
              "    .dataframe thead th {\n",
              "        text-align: right;\n",
              "    }\n",
              "</style>\n",
              "<table border=\"1\" class=\"dataframe\">\n",
              "  <thead>\n",
              "    <tr style=\"text-align: right;\">\n",
              "      <th></th>\n",
              "      <th>age</th>\n",
              "      <th>ind_nuevo</th>\n",
              "      <th>antiguedad</th>\n",
              "      <th>ult_fec_cli_1t</th>\n",
              "      <th>ind_actividad_cliente</th>\n",
              "      <th>renta</th>\n",
              "      <th>month</th>\n",
              "      <th>time</th>\n",
              "      <th>ind_ahor_fin_ult1</th>\n",
              "      <th>ind_aval_fin_ult1</th>\n",
              "      <th>ind_cco_fin_ult1</th>\n",
              "      <th>ind_cder_fin_ult1</th>\n",
              "      <th>ind_cno_fin_ult1</th>\n",
              "      <th>ind_ctju_fin_ult1</th>\n",
              "      <th>ind_ctma_fin_ult1</th>\n",
              "      <th>ind_ctop_fin_ult1</th>\n",
              "      <th>ind_ctpp_fin_ult1</th>\n",
              "      <th>ind_deco_fin_ult1</th>\n",
              "      <th>ind_deme_fin_ult1</th>\n",
              "      <th>ind_dela_fin_ult1</th>\n",
              "      <th>ind_ecue_fin_ult1</th>\n",
              "      <th>ind_fond_fin_ult1</th>\n",
              "      <th>ind_hip_fin_ult1</th>\n",
              "      <th>ind_plan_fin_ult1</th>\n",
              "      <th>ind_pres_fin_ult1</th>\n",
              "      <th>ind_reca_fin_ult1</th>\n",
              "      <th>ind_tjcr_fin_ult1</th>\n",
              "      <th>ind_valo_fin_ult1</th>\n",
              "      <th>ind_viv_fin_ult1</th>\n",
              "      <th>ind_nomina_ult1</th>\n",
              "      <th>ind_nom_pens_ult1</th>\n",
              "      <th>ind_recibo_ult1</th>\n",
              "      <th>pro_have_sum</th>\n",
              "      <th>lastind_ahor_fin_ult1</th>\n",
              "      <th>lastind_aval_fin_ult1</th>\n",
              "      <th>lastind_cco_fin_ult1</th>\n",
              "      <th>lastind_cder_fin_ult1</th>\n",
              "      <th>lastind_cno_fin_ult1</th>\n",
              "      <th>lastind_ctju_fin_ult1</th>\n",
              "      <th>lastind_ctma_fin_ult1</th>\n",
              "      <th>...</th>\n",
              "      <th>t-2_9</th>\n",
              "      <th>t-2_10</th>\n",
              "      <th>t-2_11</th>\n",
              "      <th>t-2_12</th>\n",
              "      <th>t-2_13</th>\n",
              "      <th>t-2_14</th>\n",
              "      <th>t-2_15</th>\n",
              "      <th>t-2_16</th>\n",
              "      <th>t-2_17</th>\n",
              "      <th>t-2_18</th>\n",
              "      <th>t-2_19</th>\n",
              "      <th>t-2_20</th>\n",
              "      <th>t-2_21</th>\n",
              "      <th>t-2_22</th>\n",
              "      <th>t-2_23</th>\n",
              "      <th>t-3_0</th>\n",
              "      <th>t-3_1</th>\n",
              "      <th>t-3_2</th>\n",
              "      <th>t-3_3</th>\n",
              "      <th>t-3_4</th>\n",
              "      <th>t-3_5</th>\n",
              "      <th>t-3_6</th>\n",
              "      <th>t-3_7</th>\n",
              "      <th>t-3_8</th>\n",
              "      <th>t-3_9</th>\n",
              "      <th>t-3_10</th>\n",
              "      <th>t-3_11</th>\n",
              "      <th>t-3_12</th>\n",
              "      <th>t-3_13</th>\n",
              "      <th>t-3_14</th>\n",
              "      <th>t-3_15</th>\n",
              "      <th>t-3_16</th>\n",
              "      <th>t-3_17</th>\n",
              "      <th>t-3_18</th>\n",
              "      <th>t-3_19</th>\n",
              "      <th>t-3_20</th>\n",
              "      <th>t-3_21</th>\n",
              "      <th>t-3_22</th>\n",
              "      <th>t-3_23</th>\n",
              "      <th>pro_newbuy_sum</th>\n",
              "    </tr>\n",
              "  </thead>\n",
              "  <tbody>\n",
              "    <tr>\n",
              "      <th>0</th>\n",
              "      <td>53.0</td>\n",
              "      <td>0.0</td>\n",
              "      <td>34.0</td>\n",
              "      <td>1.0</td>\n",
              "      <td>1.0</td>\n",
              "      <td>45696.75</td>\n",
              "      <td>5.0</td>\n",
              "      <td>5.0</td>\n",
              "      <td>0.0</td>\n",
              "      <td>0.0</td>\n",
              "      <td>0.0</td>\n",
              "      <td>0.0</td>\n",
              "      <td>0.0</td>\n",
              "      <td>0.0</td>\n",
              "      <td>0.0</td>\n",
              "      <td>0.0</td>\n",
              "      <td>0.0</td>\n",
              "      <td>0.0</td>\n",
              "      <td>0.0</td>\n",
              "      <td>0.0</td>\n",
              "      <td>0.0</td>\n",
              "      <td>0.0</td>\n",
              "      <td>0.0</td>\n",
              "      <td>0.0</td>\n",
              "      <td>0.0</td>\n",
              "      <td>0.0</td>\n",
              "      <td>0.0</td>\n",
              "      <td>0.0</td>\n",
              "      <td>0.0</td>\n",
              "      <td>0.0</td>\n",
              "      <td>0.0</td>\n",
              "      <td>0.0</td>\n",
              "      <td>1.0</td>\n",
              "      <td>0.0</td>\n",
              "      <td>0.0</td>\n",
              "      <td>7.0</td>\n",
              "      <td>0.0</td>\n",
              "      <td>9.0</td>\n",
              "      <td>0.0</td>\n",
              "      <td>0.0</td>\n",
              "      <td>...</td>\n",
              "      <td>0.0</td>\n",
              "      <td>0.0</td>\n",
              "      <td>0.0</td>\n",
              "      <td>0.0</td>\n",
              "      <td>0.0</td>\n",
              "      <td>0.0</td>\n",
              "      <td>0.0</td>\n",
              "      <td>0.0</td>\n",
              "      <td>0.0</td>\n",
              "      <td>0.0</td>\n",
              "      <td>0.0</td>\n",
              "      <td>0.0</td>\n",
              "      <td>0.0</td>\n",
              "      <td>0.0</td>\n",
              "      <td>0.0</td>\n",
              "      <td>2.0</td>\n",
              "      <td>2.0</td>\n",
              "      <td>0.0</td>\n",
              "      <td>0.0</td>\n",
              "      <td>0.0</td>\n",
              "      <td>0.0</td>\n",
              "      <td>0.0</td>\n",
              "      <td>0.0</td>\n",
              "      <td>0.0</td>\n",
              "      <td>0.0</td>\n",
              "      <td>0.0</td>\n",
              "      <td>0.0</td>\n",
              "      <td>0.0</td>\n",
              "      <td>0.0</td>\n",
              "      <td>0.0</td>\n",
              "      <td>0.0</td>\n",
              "      <td>0.0</td>\n",
              "      <td>0.0</td>\n",
              "      <td>0.0</td>\n",
              "      <td>0.0</td>\n",
              "      <td>0.0</td>\n",
              "      <td>0.0</td>\n",
              "      <td>0.0</td>\n",
              "      <td>0.0</td>\n",
              "      <td>8.0</td>\n",
              "    </tr>\n",
              "    <tr>\n",
              "      <th>1</th>\n",
              "      <td>24.0</td>\n",
              "      <td>0.0</td>\n",
              "      <td>34.0</td>\n",
              "      <td>1.0</td>\n",
              "      <td>0.0</td>\n",
              "      <td>155655.03</td>\n",
              "      <td>5.0</td>\n",
              "      <td>5.0</td>\n",
              "      <td>0.0</td>\n",
              "      <td>0.0</td>\n",
              "      <td>0.0</td>\n",
              "      <td>0.0</td>\n",
              "      <td>0.0</td>\n",
              "      <td>0.0</td>\n",
              "      <td>0.0</td>\n",
              "      <td>0.0</td>\n",
              "      <td>0.0</td>\n",
              "      <td>0.0</td>\n",
              "      <td>0.0</td>\n",
              "      <td>0.0</td>\n",
              "      <td>0.0</td>\n",
              "      <td>0.0</td>\n",
              "      <td>0.0</td>\n",
              "      <td>0.0</td>\n",
              "      <td>0.0</td>\n",
              "      <td>0.0</td>\n",
              "      <td>0.0</td>\n",
              "      <td>0.0</td>\n",
              "      <td>0.0</td>\n",
              "      <td>0.0</td>\n",
              "      <td>0.0</td>\n",
              "      <td>0.0</td>\n",
              "      <td>1.0</td>\n",
              "      <td>0.0</td>\n",
              "      <td>0.0</td>\n",
              "      <td>7.0</td>\n",
              "      <td>0.0</td>\n",
              "      <td>9.0</td>\n",
              "      <td>0.0</td>\n",
              "      <td>0.0</td>\n",
              "      <td>...</td>\n",
              "      <td>0.0</td>\n",
              "      <td>0.0</td>\n",
              "      <td>0.0</td>\n",
              "      <td>0.0</td>\n",
              "      <td>0.0</td>\n",
              "      <td>0.0</td>\n",
              "      <td>0.0</td>\n",
              "      <td>0.0</td>\n",
              "      <td>0.0</td>\n",
              "      <td>0.0</td>\n",
              "      <td>0.0</td>\n",
              "      <td>0.0</td>\n",
              "      <td>0.0</td>\n",
              "      <td>0.0</td>\n",
              "      <td>0.0</td>\n",
              "      <td>2.0</td>\n",
              "      <td>2.0</td>\n",
              "      <td>0.0</td>\n",
              "      <td>0.0</td>\n",
              "      <td>0.0</td>\n",
              "      <td>0.0</td>\n",
              "      <td>0.0</td>\n",
              "      <td>0.0</td>\n",
              "      <td>0.0</td>\n",
              "      <td>0.0</td>\n",
              "      <td>0.0</td>\n",
              "      <td>0.0</td>\n",
              "      <td>0.0</td>\n",
              "      <td>0.0</td>\n",
              "      <td>0.0</td>\n",
              "      <td>0.0</td>\n",
              "      <td>0.0</td>\n",
              "      <td>0.0</td>\n",
              "      <td>0.0</td>\n",
              "      <td>0.0</td>\n",
              "      <td>0.0</td>\n",
              "      <td>0.0</td>\n",
              "      <td>0.0</td>\n",
              "      <td>0.0</td>\n",
              "      <td>8.0</td>\n",
              "    </tr>\n",
              "    <tr>\n",
              "      <th>2</th>\n",
              "      <td>23.0</td>\n",
              "      <td>0.0</td>\n",
              "      <td>34.0</td>\n",
              "      <td>1.0</td>\n",
              "      <td>0.0</td>\n",
              "      <td>103488.03</td>\n",
              "      <td>5.0</td>\n",
              "      <td>5.0</td>\n",
              "      <td>0.0</td>\n",
              "      <td>0.0</td>\n",
              "      <td>0.0</td>\n",
              "      <td>0.0</td>\n",
              "      <td>0.0</td>\n",
              "      <td>0.0</td>\n",
              "      <td>0.0</td>\n",
              "      <td>0.0</td>\n",
              "      <td>0.0</td>\n",
              "      <td>0.0</td>\n",
              "      <td>0.0</td>\n",
              "      <td>0.0</td>\n",
              "      <td>0.0</td>\n",
              "      <td>0.0</td>\n",
              "      <td>0.0</td>\n",
              "      <td>0.0</td>\n",
              "      <td>0.0</td>\n",
              "      <td>0.0</td>\n",
              "      <td>0.0</td>\n",
              "      <td>0.0</td>\n",
              "      <td>0.0</td>\n",
              "      <td>0.0</td>\n",
              "      <td>0.0</td>\n",
              "      <td>0.0</td>\n",
              "      <td>1.0</td>\n",
              "      <td>0.0</td>\n",
              "      <td>0.0</td>\n",
              "      <td>7.0</td>\n",
              "      <td>0.0</td>\n",
              "      <td>9.0</td>\n",
              "      <td>0.0</td>\n",
              "      <td>0.0</td>\n",
              "      <td>...</td>\n",
              "      <td>0.0</td>\n",
              "      <td>0.0</td>\n",
              "      <td>0.0</td>\n",
              "      <td>0.0</td>\n",
              "      <td>0.0</td>\n",
              "      <td>0.0</td>\n",
              "      <td>0.0</td>\n",
              "      <td>0.0</td>\n",
              "      <td>0.0</td>\n",
              "      <td>0.0</td>\n",
              "      <td>0.0</td>\n",
              "      <td>0.0</td>\n",
              "      <td>0.0</td>\n",
              "      <td>0.0</td>\n",
              "      <td>0.0</td>\n",
              "      <td>2.0</td>\n",
              "      <td>2.0</td>\n",
              "      <td>0.0</td>\n",
              "      <td>0.0</td>\n",
              "      <td>0.0</td>\n",
              "      <td>0.0</td>\n",
              "      <td>0.0</td>\n",
              "      <td>0.0</td>\n",
              "      <td>0.0</td>\n",
              "      <td>0.0</td>\n",
              "      <td>0.0</td>\n",
              "      <td>0.0</td>\n",
              "      <td>0.0</td>\n",
              "      <td>0.0</td>\n",
              "      <td>0.0</td>\n",
              "      <td>0.0</td>\n",
              "      <td>0.0</td>\n",
              "      <td>0.0</td>\n",
              "      <td>0.0</td>\n",
              "      <td>0.0</td>\n",
              "      <td>0.0</td>\n",
              "      <td>0.0</td>\n",
              "      <td>0.0</td>\n",
              "      <td>0.0</td>\n",
              "      <td>8.0</td>\n",
              "    </tr>\n",
              "    <tr>\n",
              "      <th>3</th>\n",
              "      <td>27.0</td>\n",
              "      <td>0.0</td>\n",
              "      <td>34.0</td>\n",
              "      <td>1.0</td>\n",
              "      <td>0.0</td>\n",
              "      <td>61760.61</td>\n",
              "      <td>5.0</td>\n",
              "      <td>5.0</td>\n",
              "      <td>0.0</td>\n",
              "      <td>0.0</td>\n",
              "      <td>0.0</td>\n",
              "      <td>0.0</td>\n",
              "      <td>0.0</td>\n",
              "      <td>0.0</td>\n",
              "      <td>0.0</td>\n",
              "      <td>0.0</td>\n",
              "      <td>0.0</td>\n",
              "      <td>0.0</td>\n",
              "      <td>0.0</td>\n",
              "      <td>0.0</td>\n",
              "      <td>0.0</td>\n",
              "      <td>0.0</td>\n",
              "      <td>0.0</td>\n",
              "      <td>0.0</td>\n",
              "      <td>0.0</td>\n",
              "      <td>0.0</td>\n",
              "      <td>0.0</td>\n",
              "      <td>0.0</td>\n",
              "      <td>0.0</td>\n",
              "      <td>0.0</td>\n",
              "      <td>0.0</td>\n",
              "      <td>0.0</td>\n",
              "      <td>1.0</td>\n",
              "      <td>0.0</td>\n",
              "      <td>0.0</td>\n",
              "      <td>7.0</td>\n",
              "      <td>0.0</td>\n",
              "      <td>9.0</td>\n",
              "      <td>0.0</td>\n",
              "      <td>0.0</td>\n",
              "      <td>...</td>\n",
              "      <td>0.0</td>\n",
              "      <td>0.0</td>\n",
              "      <td>0.0</td>\n",
              "      <td>0.0</td>\n",
              "      <td>0.0</td>\n",
              "      <td>0.0</td>\n",
              "      <td>0.0</td>\n",
              "      <td>0.0</td>\n",
              "      <td>0.0</td>\n",
              "      <td>0.0</td>\n",
              "      <td>0.0</td>\n",
              "      <td>0.0</td>\n",
              "      <td>0.0</td>\n",
              "      <td>0.0</td>\n",
              "      <td>0.0</td>\n",
              "      <td>2.0</td>\n",
              "      <td>2.0</td>\n",
              "      <td>0.0</td>\n",
              "      <td>0.0</td>\n",
              "      <td>0.0</td>\n",
              "      <td>0.0</td>\n",
              "      <td>0.0</td>\n",
              "      <td>0.0</td>\n",
              "      <td>0.0</td>\n",
              "      <td>0.0</td>\n",
              "      <td>0.0</td>\n",
              "      <td>0.0</td>\n",
              "      <td>0.0</td>\n",
              "      <td>0.0</td>\n",
              "      <td>0.0</td>\n",
              "      <td>0.0</td>\n",
              "      <td>0.0</td>\n",
              "      <td>0.0</td>\n",
              "      <td>0.0</td>\n",
              "      <td>0.0</td>\n",
              "      <td>0.0</td>\n",
              "      <td>0.0</td>\n",
              "      <td>0.0</td>\n",
              "      <td>0.0</td>\n",
              "      <td>8.0</td>\n",
              "    </tr>\n",
              "    <tr>\n",
              "      <th>4</th>\n",
              "      <td>24.0</td>\n",
              "      <td>0.0</td>\n",
              "      <td>18.0</td>\n",
              "      <td>1.0</td>\n",
              "      <td>0.0</td>\n",
              "      <td>80706.57</td>\n",
              "      <td>5.0</td>\n",
              "      <td>5.0</td>\n",
              "      <td>0.0</td>\n",
              "      <td>0.0</td>\n",
              "      <td>0.0</td>\n",
              "      <td>0.0</td>\n",
              "      <td>0.0</td>\n",
              "      <td>0.0</td>\n",
              "      <td>0.0</td>\n",
              "      <td>0.0</td>\n",
              "      <td>0.0</td>\n",
              "      <td>0.0</td>\n",
              "      <td>0.0</td>\n",
              "      <td>0.0</td>\n",
              "      <td>0.0</td>\n",
              "      <td>0.0</td>\n",
              "      <td>0.0</td>\n",
              "      <td>0.0</td>\n",
              "      <td>0.0</td>\n",
              "      <td>0.0</td>\n",
              "      <td>0.0</td>\n",
              "      <td>0.0</td>\n",
              "      <td>0.0</td>\n",
              "      <td>0.0</td>\n",
              "      <td>0.0</td>\n",
              "      <td>0.0</td>\n",
              "      <td>1.0</td>\n",
              "      <td>0.0</td>\n",
              "      <td>0.0</td>\n",
              "      <td>7.0</td>\n",
              "      <td>0.0</td>\n",
              "      <td>9.0</td>\n",
              "      <td>0.0</td>\n",
              "      <td>0.0</td>\n",
              "      <td>...</td>\n",
              "      <td>0.0</td>\n",
              "      <td>0.0</td>\n",
              "      <td>0.0</td>\n",
              "      <td>0.0</td>\n",
              "      <td>0.0</td>\n",
              "      <td>0.0</td>\n",
              "      <td>0.0</td>\n",
              "      <td>0.0</td>\n",
              "      <td>0.0</td>\n",
              "      <td>0.0</td>\n",
              "      <td>0.0</td>\n",
              "      <td>0.0</td>\n",
              "      <td>0.0</td>\n",
              "      <td>0.0</td>\n",
              "      <td>0.0</td>\n",
              "      <td>2.0</td>\n",
              "      <td>2.0</td>\n",
              "      <td>0.0</td>\n",
              "      <td>0.0</td>\n",
              "      <td>0.0</td>\n",
              "      <td>0.0</td>\n",
              "      <td>0.0</td>\n",
              "      <td>0.0</td>\n",
              "      <td>0.0</td>\n",
              "      <td>0.0</td>\n",
              "      <td>0.0</td>\n",
              "      <td>0.0</td>\n",
              "      <td>0.0</td>\n",
              "      <td>0.0</td>\n",
              "      <td>0.0</td>\n",
              "      <td>0.0</td>\n",
              "      <td>0.0</td>\n",
              "      <td>0.0</td>\n",
              "      <td>0.0</td>\n",
              "      <td>0.0</td>\n",
              "      <td>0.0</td>\n",
              "      <td>0.0</td>\n",
              "      <td>0.0</td>\n",
              "      <td>0.0</td>\n",
              "      <td>8.0</td>\n",
              "    </tr>\n",
              "  </tbody>\n",
              "</table>\n",
              "<p>5 rows × 150 columns</p>\n",
              "</div>"
            ],
            "text/plain": [
              "    age  ind_nuevo  antiguedad  ...  t-3_22  t-3_23  pro_newbuy_sum\n",
              "0  53.0        0.0        34.0  ...     0.0     0.0             8.0\n",
              "1  24.0        0.0        34.0  ...     0.0     0.0             8.0\n",
              "2  23.0        0.0        34.0  ...     0.0     0.0             8.0\n",
              "3  27.0        0.0        34.0  ...     0.0     0.0             8.0\n",
              "4  24.0        0.0        18.0  ...     0.0     0.0             8.0\n",
              "\n",
              "[5 rows x 150 columns]"
            ]
          },
          "metadata": {
            "tags": []
          },
          "execution_count": 82
        }
      ]
    },
    {
      "cell_type": "markdown",
      "metadata": {
        "id": "QezE8jnuYM-U",
        "colab_type": "text"
      },
      "source": [
        "# 3. Model"
      ]
    },
    {
      "cell_type": "markdown",
      "metadata": {
        "id": "pe1TTJuVYTUX",
        "colab_type": "text"
      },
      "source": [
        "Dataset split."
      ]
    },
    {
      "cell_type": "code",
      "metadata": {
        "id": "uOyvJpvxybFn",
        "colab_type": "code",
        "colab": {
          "base_uri": "https://localhost:8080/",
          "height": 87
        },
        "outputId": "b5a82753-8b37-4d3b-b7de-a5a07263a2b4"
      },
      "source": [
        "df_test=df_com[df_com[\"time\"]==17]\n",
        "y_test=df_test[target_cols_all]\n",
        "df_test.drop(target_cols_all,axis=1,inplace=True)\n",
        "\n",
        "df_train=df_com[df_com[\"time\"]<16]\n",
        "y_train=df_train[target_cols_all]\n",
        "df_train.drop(target_cols_all,axis=1,inplace=True)\n",
        "\n",
        "df_val=df_com[df_com[\"time\"]==16]\n",
        "y_val=df_val[target_cols_all]\n",
        "df_val.drop(target_cols_all,axis=1,inplace=True)\n",
        "\n",
        "df_last=df_com[df_com[\"time\"]<17]\n",
        "y_last=df_last[target_cols_all]\n",
        "df_last.drop(target_cols_all,axis=1,inplace=True)\n",
        "\n",
        "print(df_train.shape)\n",
        "print(df_val.shape)\n",
        "print(df_last.shape)\n",
        "print(df_test.shape)"
      ],
      "execution_count": 83,
      "outputs": [
        {
          "output_type": "stream",
          "text": [
            "(19487, 126)\n",
            "(1945, 126)\n",
            "(21432, 126)\n",
            "(1954, 126)\n"
          ],
          "name": "stdout"
        }
      ]
    },
    {
      "cell_type": "markdown",
      "metadata": {
        "id": "aY_J4SYAYfyb",
        "colab_type": "text"
      },
      "source": [
        "Use the mean of label to determine the threshold (the count of purchase). Split two label sets for two models. "
      ]
    },
    {
      "cell_type": "code",
      "metadata": {
        "id": "lJ3rtORV8zaA",
        "colab_type": "code",
        "outputId": "df4908b9-fdce-4815-d07e-c7c855327371",
        "colab": {
          "base_uri": "https://localhost:8080/",
          "height": 281
        }
      },
      "source": [
        "thre=0.0001\n",
        "df_th=pd.DataFrame(y_train.mean().sort_values())\n",
        "biglist=list(df_th[df_th[0]>thre].index)\n",
        "biglist"
      ],
      "execution_count": 84,
      "outputs": [
        {
          "output_type": "execute_result",
          "data": {
            "text/plain": [
              "['ind_ctop_fin_ult1',\n",
              " 'ind_fond_fin_ult1',\n",
              " 'ind_ctju_fin_ult1',\n",
              " 'ind_deco_fin_ult1',\n",
              " 'ind_valo_fin_ult1',\n",
              " 'ind_ctma_fin_ult1',\n",
              " 'ind_reca_fin_ult1',\n",
              " 'ind_dela_fin_ult1',\n",
              " 'ind_ecue_fin_ult1',\n",
              " 'ind_cno_fin_ult1',\n",
              " 'ind_tjcr_fin_ult1',\n",
              " 'ind_cco_fin_ult1',\n",
              " 'ind_nomina_ult1',\n",
              " 'ind_nom_pens_ult1',\n",
              " 'ind_recibo_ult1']"
            ]
          },
          "metadata": {
            "tags": []
          },
          "execution_count": 84
        }
      ]
    },
    {
      "cell_type": "code",
      "metadata": {
        "id": "_jqwOoqZ-XSP",
        "colab_type": "code",
        "colab": {}
      },
      "source": [
        "df_train=df_train.astype(float)\n",
        "df_test=df_test.astype(float)\n",
        "df_val=df_val.astype(float)\n",
        "df_last=df_last.astype(float)\n",
        "y_train=y_train.astype(float)\n",
        "y_test=y_test.astype(float)\n",
        "y_val=y_val.astype(float)\n",
        "y_last=y_last.astype(float)\n",
        "\n",
        "y_test_big=y_test[biglist]\n",
        "y_test_small=y_test.drop(biglist,axis=1)\n",
        "y_test_big=y_test_big.astype(float)\n",
        "y_test_small=y_test_small.astype(float)\n",
        "\n",
        "y_train_big=y_train[biglist]\n",
        "y_train_small=y_train.drop(biglist,axis=1)\n",
        "y_train_big=y_train_big.astype(float)\n",
        "y_train_small=y_train_small.astype(float)\n",
        "\n",
        "y_last_big=y_last[biglist]\n",
        "y_last_small=y_last.drop(biglist,axis=1)\n",
        "y_last_big=y_last_big.astype(float)\n",
        "y_last_small=y_last_small.astype(float)\n",
        "\n",
        "y_val_big=y_val[biglist]\n",
        "y_val_small=y_val.drop(biglist,axis=1)\n",
        "y_val_big=y_val_big.astype(float)\n",
        "y_val_small=y_val_small.astype(float)\n",
        "\n",
        "y_test_formulti=pd.concat([y_test_big,y_test_small],axis=1)"
      ],
      "execution_count": 0,
      "outputs": []
    },
    {
      "cell_type": "code",
      "metadata": {
        "id": "xluCgktiCcsD",
        "colab_type": "code",
        "colab": {}
      },
      "source": [
        "del df_com,df_1,df_tr,df_add,df_ind,df_ex,df_g,df_temp"
      ],
      "execution_count": 0,
      "outputs": []
    },
    {
      "cell_type": "markdown",
      "metadata": {
        "id": "sKgDtl5XY8US",
        "colab_type": "text"
      },
      "source": [
        "Define the evaluation metrics as Kaggle."
      ]
    },
    {
      "cell_type": "code",
      "metadata": {
        "id": "R0A05nHQcPXf",
        "colab_type": "code",
        "colab": {}
      },
      "source": [
        "def metrics(pred,y_test):\n",
        "  pred=pd.DataFrame(pred)\n",
        "  tp_fp=pred.sum(1)\n",
        "  tplist=[]\n",
        "  for i in range(len(pred)):\n",
        "    count=0\n",
        "    for j in range(len(pred.columns)):\n",
        "      if(pred.iloc[i,j]==1 and y_test.iloc[i,j]==1):\n",
        "        count+=1\n",
        "    tplist.append(count)\n",
        "  div=[]\n",
        "  tplist=pd.Series(tplist)\n",
        "  for i in range(len(tplist)):\n",
        "    if(tp_fp[i]==0):\n",
        "      prec=0\n",
        "    else:\n",
        "      prec=tplist[i]/tp_fp[i]\n",
        "    div.append(prec)\n",
        "  div=pd.Series(div)\n",
        "  prec=div.mean()\n",
        "  return prec"
      ],
      "execution_count": 0,
      "outputs": []
    },
    {
      "cell_type": "markdown",
      "metadata": {
        "id": "KPCE7VIqZGQC",
        "colab_type": "text"
      },
      "source": [
        "24 models for 24 labels."
      ]
    },
    {
      "cell_type": "code",
      "metadata": {
        "id": "dEm106Iccpv9",
        "colab_type": "code",
        "colab": {
          "base_uri": "https://localhost:8080/",
          "height": 34
        },
        "outputId": "c742987b-c159-4b1b-b12a-a11993978387"
      },
      "source": [
        "from xgboost import XGBClassifier\n",
        "\n",
        "flag=0\n",
        "for i in y_last.columns:\n",
        "  clf = XGBClassifier(learning_rate=0.4,max_depth=6,gamma=100)\n",
        "  y=y_last[i]\n",
        "  clf.fit(df_last,y)\n",
        "  pred=clf.predict(df_test)\n",
        "  if(flag==0):\n",
        "    first=pd.DataFrame(pred)\n",
        "    flag+=1\n",
        "  else:\n",
        "    pred=pd.DataFrame(pred)\n",
        "    first=pd.concat([first,pred],axis=1)\n",
        "\n",
        "first.columns=target_cols_all\n",
        "print(metrics(first,y_test))"
      ],
      "execution_count": 88,
      "outputs": [
        {
          "output_type": "stream",
          "text": [
            "0.0\n"
          ],
          "name": "stdout"
        }
      ]
    },
    {
      "cell_type": "markdown",
      "metadata": {
        "id": "QKaXccoWyY0n",
        "colab_type": "text"
      },
      "source": [
        "Base rate"
      ]
    },
    {
      "cell_type": "code",
      "metadata": {
        "id": "gMTZiBrJwVMU",
        "colab_type": "code",
        "colab": {
          "base_uri": "https://localhost:8080/",
          "height": 34
        },
        "outputId": "302a1ca9-46b2-4bc1-81ad-6d2e852336fd"
      },
      "source": [
        "one=first\n",
        "one.replace(1,0,inplace=True)\n",
        "one.columns=target_cols_all\n",
        "print(metrics(one,y_test))"
      ],
      "execution_count": 89,
      "outputs": [
        {
          "output_type": "stream",
          "text": [
            "0.0\n"
          ],
          "name": "stdout"
        }
      ]
    },
    {
      "cell_type": "markdown",
      "metadata": {
        "id": "Po62KTN9yjzX",
        "colab_type": "text"
      },
      "source": [
        "Xgboost hyperparameter tuning and model construct."
      ]
    },
    {
      "cell_type": "code",
      "metadata": {
        "id": "rgpXrGbUotZq",
        "colab_type": "code",
        "colab": {
          "base_uri": "https://localhost:8080/",
          "height": 52
        },
        "outputId": "56fa4dc0-835a-4465-bd2d-d3df09130229"
      },
      "source": [
        "from sklearn.multiclass import OneVsRestClassifier\n",
        "\n",
        "learning_rate=[0.2,0.3,0.4]\n",
        "max_depth=[6,7,5]\n",
        "gamma=[0,10,100]\n",
        "scorelist=[]\n",
        "\n",
        "def xgb(x,y,xt,yt):\n",
        "  for i in learning_rate:\n",
        "    for j in max_depth:\n",
        "      for k in gamma:\n",
        "        clf = OneVsRestClassifier(XGBClassifier(learning_rate=i,max_depth=j,gamma=k))\n",
        "        clf.fit(x,y)\n",
        "        pred=clf.predict(xt)\n",
        "        scorelist.append(metrics(pred,yt))\n",
        "\n",
        "  print(scorelist.index(max(scorelist)))\n",
        "  print(max(scorelist))\n",
        "\n",
        "xgb(df_train,y_train,df_val,y_val)"
      ],
      "execution_count": 90,
      "outputs": [
        {
          "output_type": "stream",
          "text": [
            "24\n",
            "0.002313624678663239\n"
          ],
          "name": "stdout"
        }
      ]
    },
    {
      "cell_type": "code",
      "metadata": {
        "id": "5AfaeOMFEpnB",
        "colab_type": "code",
        "outputId": "fdd3993a-bffd-4ab6-ff0e-289fa1f8128a",
        "colab": {
          "base_uri": "https://localhost:8080/",
          "height": 87
        }
      },
      "source": [
        "def xgbb(x,y,xt):\n",
        "  clf = OneVsRestClassifier(XGBClassifier(learning_rate=0.4,max_depth=5,gamma=0))\n",
        "  clf.fit(x,y)\n",
        "  pred=clf.predict(xt)\n",
        "  return pred\n",
        "\n",
        "print(\"single-xgb:\")\n",
        "print(metrics(xgbb(df_last,y_last,df_test),y_test))\n",
        "pred_big = pd.DataFrame(xgbb(df_last,y_last_big,df_test))\n",
        "pred_small = pd.DataFrame(xgbb(df_last,y_last_small,df_test))\n",
        "pred=pd.concat([pred_big,pred_small],axis=1)\n",
        "print(\"multi-xgb:\")\n",
        "print(metrics(pred,y_test_formulti))"
      ],
      "execution_count": 91,
      "outputs": [
        {
          "output_type": "stream",
          "text": [
            "single-xgb:\n",
            "0.004605936540429887\n",
            "multi-xgb:\n",
            "0.004605936540429887\n"
          ],
          "name": "stdout"
        }
      ]
    },
    {
      "cell_type": "markdown",
      "metadata": {
        "id": "21aw2rUOytBI",
        "colab_type": "text"
      },
      "source": [
        "LogisticRegression hyperparameter tuning and model construct."
      ]
    },
    {
      "cell_type": "code",
      "metadata": {
        "id": "lYUDCAmD-p3s",
        "colab_type": "code",
        "colab": {
          "base_uri": "https://localhost:8080/",
          "height": 52
        },
        "outputId": "c7e8b1ce-2e92-402b-a154-c89bab590c02"
      },
      "source": [
        "from sklearn.linear_model import LogisticRegression\n",
        "\n",
        "tol=[1e-4,1e-3,1e-5]\n",
        "C=[1,2]\n",
        "scorelist=[]\n",
        "\n",
        "def log(x,y,xt,yt):\n",
        "  for i in tol:\n",
        "    for j in C:\n",
        "      clf = OneVsRestClassifier(LogisticRegression(tol=i,C=j))\n",
        "      clf.fit(x,y)\n",
        "      pred=clf.predict(xt)\n",
        "      scorelist.append(metrics(pred,yt))\n",
        "\n",
        "  print(scorelist.index(max(scorelist)))\n",
        "  print(max(scorelist))\n",
        "\n",
        "log(df_train,y_train,df_val,y_val)"
      ],
      "execution_count": 92,
      "outputs": [
        {
          "output_type": "stream",
          "text": [
            "0\n",
            "0.0\n"
          ],
          "name": "stdout"
        }
      ]
    },
    {
      "cell_type": "code",
      "metadata": {
        "id": "RT0wjWncHZ-Z",
        "colab_type": "code",
        "outputId": "16868a3e-d885-4f35-99e9-56ebdd25e2f9",
        "colab": {
          "base_uri": "https://localhost:8080/",
          "height": 87
        }
      },
      "source": [
        "def logg(x,y,xt):\n",
        "  clf = OneVsRestClassifier(LogisticRegression())\n",
        "  clf.fit(x,y)\n",
        "  pred=clf.predict(xt)\n",
        "  return pred\n",
        "\n",
        "print(\"single-log:\")\n",
        "print(metrics(logg(df_last,y_last,df_test),y_test))\n",
        "pred_big = pd.DataFrame(logg(df_last,y_last_big,df_test))\n",
        "pred_small = pd.DataFrame(logg(df_last,y_last_small,df_test))\n",
        "pred=pd.concat([pred_big,pred_small],axis=1)\n",
        "print(\"multi-log:\")\n",
        "print(metrics(pred,y_test_formulti))"
      ],
      "execution_count": 93,
      "outputs": [
        {
          "output_type": "stream",
          "text": [
            "single-log:\n",
            "0.0\n",
            "multi-log:\n",
            "0.0\n"
          ],
          "name": "stdout"
        }
      ]
    },
    {
      "cell_type": "markdown",
      "metadata": {
        "id": "2bGiB3yQy4Cf",
        "colab_type": "text"
      },
      "source": [
        "RandomForestClassifier hyperparameter tuning and model construct."
      ]
    },
    {
      "cell_type": "code",
      "metadata": {
        "id": "DJi5w6AL4eD3",
        "colab_type": "code",
        "colab": {
          "base_uri": "https://localhost:8080/",
          "height": 52
        },
        "outputId": "568a9d2b-3203-495c-adb8-e58487b111ed"
      },
      "source": [
        "from sklearn.ensemble import RandomForestClassifier,VotingClassifier\n",
        "\n",
        "n_estimators=[50,100,150]\n",
        "scorelist=[]\n",
        "\n",
        "def ran(x,y,xt,yt):\n",
        "  for i in n_estimators:\n",
        "    clf = OneVsRestClassifier(RandomForestClassifier(n_estimators=i))\n",
        "    clf.fit(x,y)\n",
        "    pred=clf.predict(xt)\n",
        "    scorelist.append(metrics(pred,yt))\n",
        "\n",
        "  print(scorelist.index(max(scorelist)))\n",
        "  print(max(scorelist))\n",
        "\n",
        "ran(df_train,y_train,df_val,y_val)"
      ],
      "execution_count": 94,
      "outputs": [
        {
          "output_type": "stream",
          "text": [
            "0\n",
            "0.0\n"
          ],
          "name": "stdout"
        }
      ]
    },
    {
      "cell_type": "code",
      "metadata": {
        "id": "Y77hzsPuH44J",
        "colab_type": "code",
        "outputId": "7aaa8dd6-f595-4318-b77f-bca1c7bbeb19",
        "colab": {
          "base_uri": "https://localhost:8080/",
          "height": 87
        }
      },
      "source": [
        "def rann(x,y,xt):\n",
        "  clf = OneVsRestClassifier(RandomForestClassifier())\n",
        "  clf.fit(x,y)\n",
        "  pred=clf.predict(xt)\n",
        "  return pred\n",
        "\n",
        "print(\"single-ran:\")\n",
        "print(metrics(rann(df_last,y_last,df_test),y_test))\n",
        "pred_big = pd.DataFrame(rann(df_last,y_last_big,df_test))\n",
        "pred_small = pd.DataFrame(rann(df_last,y_last_small,df_test))\n",
        "pred=pd.concat([pred_big,pred_small],axis=1)\n",
        "print(\"multi-ran:\")\n",
        "print(metrics(pred,y_test_formulti))"
      ],
      "execution_count": 95,
      "outputs": [
        {
          "output_type": "stream",
          "text": [
            "single-ran:\n",
            "0.0\n",
            "multi-ran:\n",
            "0.0\n"
          ],
          "name": "stdout"
        }
      ]
    },
    {
      "cell_type": "markdown",
      "metadata": {
        "id": "zLr7HNiDy-fD",
        "colab_type": "text"
      },
      "source": [
        "Ensemble using VotingClassifier"
      ]
    },
    {
      "cell_type": "code",
      "metadata": {
        "id": "AxKUqN2IAz-q",
        "colab_type": "code",
        "outputId": "bba05ca5-e148-45bc-9344-f419bbbc5835",
        "colab": {
          "base_uri": "https://localhost:8080/",
          "height": 87
        }
      },
      "source": [
        "def vote(x,y,xt):\n",
        "    clf1 = OneVsRestClassifier(XGBClassifier(learning_rate=0.4,max_depth=7,gamma=0))\n",
        "    clf2 = OneVsRestClassifier(RandomForestClassifier(n_estimators=150))\n",
        "    clf3 = OneVsRestClassifier(LogisticRegression())\n",
        "    eclf = OneVsRestClassifier(VotingClassifier(estimators=[('1', clf1), ('2', clf2), ('3', clf3)],voting=\"soft\"))\n",
        "    eclf.fit(x,y)\n",
        "    pred=eclf.predict(xt)\n",
        "    return pred\n",
        "\n",
        "print(\"single-vote:\")\n",
        "print(metrics(vote(df_last,y_last,df_test),y_test))\n",
        "pred_big = pd.DataFrame(vote(df_last,y_last_big,df_test))\n",
        "pred_small = pd.DataFrame(vote(df_last,y_last_small,df_test))\n",
        "pred=pd.concat([pred_big,pred_small],axis=1)\n",
        "print(\"multi-vote:\")\n",
        "print(metrics(pred,y_test_formulti))"
      ],
      "execution_count": 96,
      "outputs": [
        {
          "output_type": "stream",
          "text": [
            "single-vote:\n",
            "0.0\n",
            "multi-vote:\n",
            "0.0\n"
          ],
          "name": "stdout"
        }
      ]
    }
  ]
}